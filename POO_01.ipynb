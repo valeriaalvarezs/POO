{
  "nbformat": 4,
  "nbformat_minor": 0,
  "metadata": {
    "colab": {
      "provenance": []
    },
    "kernelspec": {
      "name": "python3",
      "display_name": "Python 3"
    },
    "language_info": {
      "name": "python"
    }
  },
  "cells": [
    {
      "cell_type": "markdown",
      "source": [
        "# Introducción a objetos\n",
        "## Primeros objetos"
      ],
      "metadata": {
        "id": "DxhlB73NSOb-"
      }
    },
    {
      "cell_type": "markdown",
      "source": [
        "Funciones integradas en Python:\n",
        "\n",
        "La función que identifica el tipo de objeto es la función `type`\n",
        "\n",
        "Las variables se escriben como sigue (ejemplo): num=5\n",
        "\n",
        "Para leer las variables se usa la funcion `print`"
      ],
      "metadata": {
        "id": "uYHr4cqTUsgB"
      }
    },
    {
      "cell_type": "code",
      "execution_count": 4,
      "metadata": {
        "colab": {
          "base_uri": "https://localhost:8080/"
        },
        "id": "kz6xOH3RR2qJ",
        "outputId": "2e32335e-8ed0-4e37-f19b-790bc93e2667"
      },
      "outputs": [
        {
          "output_type": "stream",
          "name": "stdout",
          "text": [
            "5\n"
          ]
        }
      ],
      "source": [
        "num=5\n",
        "print(num)"
      ]
    },
    {
      "cell_type": "code",
      "source": [
        "type(num)"
      ],
      "metadata": {
        "colab": {
          "base_uri": "https://localhost:8080/"
        },
        "id": "YAUsYhbaW8qd",
        "outputId": "5bf03491-d1c1-4d2a-bfe0-2f05045c72bc"
      },
      "execution_count": 6,
      "outputs": [
        {
          "output_type": "execute_result",
          "data": {
            "text/plain": [
              "int"
            ]
          },
          "metadata": {},
          "execution_count": 6
        }
      ]
    },
    {
      "cell_type": "code",
      "source": [
        "saludo=\"Hola, mundo!\"\n",
        "print(saludo)"
      ],
      "metadata": {
        "colab": {
          "base_uri": "https://localhost:8080/"
        },
        "id": "lyPTpkbBWy-J",
        "outputId": "53a99857-1294-47bd-e03d-1e684eba06c0"
      },
      "execution_count": 5,
      "outputs": [
        {
          "output_type": "stream",
          "name": "stdout",
          "text": [
            "Hola, mundo!\n"
          ]
        }
      ]
    },
    {
      "cell_type": "code",
      "source": [
        "type(saludo)"
      ],
      "metadata": {
        "colab": {
          "base_uri": "https://localhost:8080/"
        },
        "id": "-iG8khB1W7DX",
        "outputId": "a0b35cf2-6f6e-4ddb-cfcb-6b495feed85e"
      },
      "execution_count": 7,
      "outputs": [
        {
          "output_type": "execute_result",
          "data": {
            "text/plain": [
              "str"
            ]
          },
          "metadata": {},
          "execution_count": 7
        }
      ]
    },
    {
      "cell_type": "code",
      "source": [
        "# Cuando se pone dos == se usa para comparar o verificar objetos, la respuesta es True or False.\n",
        "# En este ejemplo verifica si num y saludo son objetos iguales o diferentes, el resultado arroja un valor booleano\n",
        "type(num)==type(saludo)"
      ],
      "metadata": {
        "colab": {
          "base_uri": "https://localhost:8080/"
        },
        "id": "mXls9wfMXkWW",
        "outputId": "9b0b9ea3-7079-4d7c-c270-66370150568e"
      },
      "execution_count": 8,
      "outputs": [
        {
          "output_type": "execute_result",
          "data": {
            "text/plain": [
              "False"
            ]
          },
          "metadata": {},
          "execution_count": 8
        }
      ]
    },
    {
      "cell_type": "code",
      "source": [
        "# La función float convierte un entero en flotante (numero con decimal)\n",
        "float(num)"
      ],
      "metadata": {
        "colab": {
          "base_uri": "https://localhost:8080/"
        },
        "id": "sL92Sm0KX3Xe",
        "outputId": "6680f8c5-d7eb-4bb8-940d-79f1820ac2a2"
      },
      "execution_count": 9,
      "outputs": [
        {
          "output_type": "execute_result",
          "data": {
            "text/plain": [
              "5.0"
            ]
          },
          "metadata": {},
          "execution_count": 9
        }
      ]
    },
    {
      "cell_type": "code",
      "source": [
        "# En este caso convierte el num en un string, sale en comillas porque es un carácter\n",
        "str(num)"
      ],
      "metadata": {
        "colab": {
          "base_uri": "https://localhost:8080/",
          "height": 35
        },
        "id": "IF2MqyEoZX_c",
        "outputId": "7fcc064d-0d7c-4a50-b248-358694048df4"
      },
      "execution_count": 11,
      "outputs": [
        {
          "output_type": "execute_result",
          "data": {
            "text/plain": [
              "'5'"
            ],
            "application/vnd.google.colaboratory.intrinsic+json": {
              "type": "string"
            }
          },
          "metadata": {},
          "execution_count": 11
        }
      ]
    },
    {
      "cell_type": "code",
      "source": [
        "num_s=str(num)\n",
        "print(num_s)"
      ],
      "metadata": {
        "colab": {
          "base_uri": "https://localhost:8080/"
        },
        "id": "xTwIxbwMZtI4",
        "outputId": "7ddef8ed-8869-45df-d552-3e35af5e0766"
      },
      "execution_count": 19,
      "outputs": [
        {
          "output_type": "stream",
          "name": "stdout",
          "text": [
            "5\n"
          ]
        }
      ]
    },
    {
      "cell_type": "code",
      "source": [
        "type(num_s)==type(saludo)"
      ],
      "metadata": {
        "colab": {
          "base_uri": "https://localhost:8080/"
        },
        "id": "fRpc8v36aDwR",
        "outputId": "4d552fe7-f310-464f-ed15-6f2c85613070"
      },
      "execution_count": 16,
      "outputs": [
        {
          "output_type": "execute_result",
          "data": {
            "text/plain": [
              "True"
            ]
          },
          "metadata": {},
          "execution_count": 16
        }
      ]
    },
    {
      "cell_type": "code",
      "source": [
        "# Función de conjunto, rango. Se usa para crear indices, por ejemplo:\n",
        "# Si no pones valor de inicio, los indices en Python comienzan en 0\n",
        "range(10)"
      ],
      "metadata": {
        "colab": {
          "base_uri": "https://localhost:8080/"
        },
        "id": "WqPrFxZ1akhR",
        "outputId": "c653ed78-c32f-4ea0-bee4-a7a6870f1b1a"
      },
      "execution_count": 26,
      "outputs": [
        {
          "output_type": "execute_result",
          "data": {
            "text/plain": [
              "range(0, 10)"
            ]
          },
          "metadata": {},
          "execution_count": 26
        }
      ]
    },
    {
      "cell_type": "code",
      "source": [
        "range(1,10)"
      ],
      "metadata": {
        "colab": {
          "base_uri": "https://localhost:8080/"
        },
        "id": "BNtBvubPbYtw",
        "outputId": "b37f585b-934e-4a33-c242-6b3c642759cc"
      },
      "execution_count": 27,
      "outputs": [
        {
          "output_type": "execute_result",
          "data": {
            "text/plain": [
              "range(1, 10)"
            ]
          },
          "metadata": {},
          "execution_count": 27
        }
      ]
    },
    {
      "cell_type": "code",
      "source": [
        "# Para ver todos los elementos del range(10) se usa un bluce for y la funcion print\n",
        "for i in range(10):\n",
        "  print(i+1)"
      ],
      "metadata": {
        "colab": {
          "base_uri": "https://localhost:8080/"
        },
        "id": "bUlz9Aajbu0N",
        "outputId": "c2f3c802-bbe6-4362-9057-f9cf4ab9380b"
      },
      "execution_count": 31,
      "outputs": [
        {
          "output_type": "stream",
          "name": "stdout",
          "text": [
            "1\n",
            "2\n",
            "3\n",
            "4\n",
            "5\n",
            "6\n",
            "7\n",
            "8\n",
            "9\n",
            "10\n"
          ]
        }
      ]
    },
    {
      "cell_type": "markdown",
      "source": [
        "Listas:\n",
        "lista_1= [el0, el1, el2, ... , el(n-1)]\n",
        "\n",
        "Cada el(i) es un objeto"
      ],
      "metadata": {
        "id": "naycyb-PdD5H"
      }
    },
    {
      "cell_type": "code",
      "source": [
        "lista_1=[1,\"1\",1.0,[2,3]]"
      ],
      "metadata": {
        "id": "8ox_wjwLdAXK"
      },
      "execution_count": 33,
      "outputs": []
    },
    {
      "cell_type": "code",
      "source": [
        "type(lista_1)"
      ],
      "metadata": {
        "colab": {
          "base_uri": "https://localhost:8080/"
        },
        "id": "G8CgI7ZYeCEV",
        "outputId": "7781e67f-9fa7-49a4-dd38-55cca0d85b20"
      },
      "execution_count": 34,
      "outputs": [
        {
          "output_type": "execute_result",
          "data": {
            "text/plain": [
              "list"
            ]
          },
          "metadata": {},
          "execution_count": 34
        }
      ]
    },
    {
      "cell_type": "code",
      "source": [
        "lista_2=[x for x in range(11)]\n",
        "print(lista_2)"
      ],
      "metadata": {
        "colab": {
          "base_uri": "https://localhost:8080/"
        },
        "id": "DE1AsmDVeiC3",
        "outputId": "4cd82163-ff6c-4141-b19f-5a2e0d9d5a53"
      },
      "execution_count": 37,
      "outputs": [
        {
          "output_type": "stream",
          "name": "stdout",
          "text": [
            "[0, 1, 2, 3, 4, 5, 6, 7, 8, 9, 10]\n"
          ]
        }
      ]
    }
  ]
}