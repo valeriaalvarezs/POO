{
  "nbformat": 4,
  "nbformat_minor": 0,
  "metadata": {
    "colab": {
      "provenance": []
    },
    "kernelspec": {
      "name": "python3",
      "display_name": "Python 3"
    },
    "language_info": {
      "name": "python"
    }
  },
  "cells": [
    {
      "cell_type": "markdown",
      "source": [
        "# Lectura de datos"
      ],
      "metadata": {
        "id": "Gt98Phw3akba"
      }
    },
    {
      "cell_type": "code",
      "execution_count": null,
      "metadata": {
        "id": "Icf6-6_qSTPq"
      },
      "outputs": [],
      "source": [
        "import pandas as pd\n",
        "import numpy as np"
      ]
    },
    {
      "cell_type": "markdown",
      "source": [
        "Descargas de tickers.\n",
        "*   \"AMZN\" - AMAZON\n",
        "*   \"TCS\" - Tata Consultance"
      ],
      "metadata": {
        "id": "9SGg5Zjfbd4_"
      }
    },
    {
      "cell_type": "code",
      "source": [
        "import yfinance as yf"
      ],
      "metadata": {
        "id": "Hf931YTha5fx"
      },
      "execution_count": null,
      "outputs": []
    },
    {
      "cell_type": "markdown",
      "source": [
        "Existe un metodo que se llama .download"
      ],
      "metadata": {
        "id": "F4NZI7mbeoJL"
      }
    },
    {
      "cell_type": "code",
      "source": [
        "start = \"2016-01-01\"\n",
        "end = \"2021-01-01\"\n",
        "\n",
        "tcs=yf.download(\"TCS\",start,end)"
      ],
      "metadata": {
        "colab": {
          "base_uri": "https://localhost:8080/"
        },
        "id": "hnnB8Hj_c0-q",
        "outputId": "2ab7d820-9d0a-427c-b4d4-1f1b014b1a66"
      },
      "execution_count": null,
      "outputs": [
        {
          "output_type": "stream",
          "name": "stdout",
          "text": [
            "\r[*********************100%%**********************]  1 of 1 completed\n"
          ]
        }
      ]
    },
    {
      "cell_type": "code",
      "source": [
        "tcs"
      ],
      "metadata": {
        "colab": {
          "base_uri": "https://localhost:8080/",
          "height": 455
        },
        "id": "0ZY_FNRWeMor",
        "outputId": "4ddd9620-58a4-45d6-9080-0d6cf5ba3134"
      },
      "execution_count": null,
      "outputs": [
        {
          "output_type": "execute_result",
          "data": {
            "text/plain": [
              "             Open   High    Low  Close  Adj Close   Volume\n",
              "Date                                                      \n",
              "2016-01-04   8.04   8.28   7.91   8.17   7.637174   349500\n",
              "2016-01-05   8.20   8.25   7.61   7.76   7.253913   372300\n",
              "2016-01-06   7.61   7.71   7.36   7.57   7.076304   281800\n",
              "2016-01-07   7.46   7.95   7.06   7.18   6.711739  1051300\n",
              "2016-01-08   5.12   5.15   4.02   4.22   3.944782  8768600\n",
              "...           ...    ...    ...    ...        ...      ...\n",
              "2020-12-24  12.90  12.95  11.93  12.21  12.210000   886700\n",
              "2020-12-28  12.38  12.42  10.75  10.80  10.800000  1310800\n",
              "2020-12-29  10.96  11.00   9.72   9.87   9.870000  2109300\n",
              "2020-12-30   9.88  10.19   9.72   9.74   9.740000   835900\n",
              "2020-12-31   9.82   9.94   9.47   9.54   9.540000  1417400\n",
              "\n",
              "[1259 rows x 6 columns]"
            ],
            "text/html": [
              "\n",
              "\n",
              "  <div id=\"df-57140a74-31d8-4026-8072-75a761cbda53\">\n",
              "    <div class=\"colab-df-container\">\n",
              "      <div>\n",
              "<style scoped>\n",
              "    .dataframe tbody tr th:only-of-type {\n",
              "        vertical-align: middle;\n",
              "    }\n",
              "\n",
              "    .dataframe tbody tr th {\n",
              "        vertical-align: top;\n",
              "    }\n",
              "\n",
              "    .dataframe thead th {\n",
              "        text-align: right;\n",
              "    }\n",
              "</style>\n",
              "<table border=\"1\" class=\"dataframe\">\n",
              "  <thead>\n",
              "    <tr style=\"text-align: right;\">\n",
              "      <th></th>\n",
              "      <th>Open</th>\n",
              "      <th>High</th>\n",
              "      <th>Low</th>\n",
              "      <th>Close</th>\n",
              "      <th>Adj Close</th>\n",
              "      <th>Volume</th>\n",
              "    </tr>\n",
              "    <tr>\n",
              "      <th>Date</th>\n",
              "      <th></th>\n",
              "      <th></th>\n",
              "      <th></th>\n",
              "      <th></th>\n",
              "      <th></th>\n",
              "      <th></th>\n",
              "    </tr>\n",
              "  </thead>\n",
              "  <tbody>\n",
              "    <tr>\n",
              "      <th>2016-01-04</th>\n",
              "      <td>8.04</td>\n",
              "      <td>8.28</td>\n",
              "      <td>7.91</td>\n",
              "      <td>8.17</td>\n",
              "      <td>7.637174</td>\n",
              "      <td>349500</td>\n",
              "    </tr>\n",
              "    <tr>\n",
              "      <th>2016-01-05</th>\n",
              "      <td>8.20</td>\n",
              "      <td>8.25</td>\n",
              "      <td>7.61</td>\n",
              "      <td>7.76</td>\n",
              "      <td>7.253913</td>\n",
              "      <td>372300</td>\n",
              "    </tr>\n",
              "    <tr>\n",
              "      <th>2016-01-06</th>\n",
              "      <td>7.61</td>\n",
              "      <td>7.71</td>\n",
              "      <td>7.36</td>\n",
              "      <td>7.57</td>\n",
              "      <td>7.076304</td>\n",
              "      <td>281800</td>\n",
              "    </tr>\n",
              "    <tr>\n",
              "      <th>2016-01-07</th>\n",
              "      <td>7.46</td>\n",
              "      <td>7.95</td>\n",
              "      <td>7.06</td>\n",
              "      <td>7.18</td>\n",
              "      <td>6.711739</td>\n",
              "      <td>1051300</td>\n",
              "    </tr>\n",
              "    <tr>\n",
              "      <th>2016-01-08</th>\n",
              "      <td>5.12</td>\n",
              "      <td>5.15</td>\n",
              "      <td>4.02</td>\n",
              "      <td>4.22</td>\n",
              "      <td>3.944782</td>\n",
              "      <td>8768600</td>\n",
              "    </tr>\n",
              "    <tr>\n",
              "      <th>...</th>\n",
              "      <td>...</td>\n",
              "      <td>...</td>\n",
              "      <td>...</td>\n",
              "      <td>...</td>\n",
              "      <td>...</td>\n",
              "      <td>...</td>\n",
              "    </tr>\n",
              "    <tr>\n",
              "      <th>2020-12-24</th>\n",
              "      <td>12.90</td>\n",
              "      <td>12.95</td>\n",
              "      <td>11.93</td>\n",
              "      <td>12.21</td>\n",
              "      <td>12.210000</td>\n",
              "      <td>886700</td>\n",
              "    </tr>\n",
              "    <tr>\n",
              "      <th>2020-12-28</th>\n",
              "      <td>12.38</td>\n",
              "      <td>12.42</td>\n",
              "      <td>10.75</td>\n",
              "      <td>10.80</td>\n",
              "      <td>10.800000</td>\n",
              "      <td>1310800</td>\n",
              "    </tr>\n",
              "    <tr>\n",
              "      <th>2020-12-29</th>\n",
              "      <td>10.96</td>\n",
              "      <td>11.00</td>\n",
              "      <td>9.72</td>\n",
              "      <td>9.87</td>\n",
              "      <td>9.870000</td>\n",
              "      <td>2109300</td>\n",
              "    </tr>\n",
              "    <tr>\n",
              "      <th>2020-12-30</th>\n",
              "      <td>9.88</td>\n",
              "      <td>10.19</td>\n",
              "      <td>9.72</td>\n",
              "      <td>9.74</td>\n",
              "      <td>9.740000</td>\n",
              "      <td>835900</td>\n",
              "    </tr>\n",
              "    <tr>\n",
              "      <th>2020-12-31</th>\n",
              "      <td>9.82</td>\n",
              "      <td>9.94</td>\n",
              "      <td>9.47</td>\n",
              "      <td>9.54</td>\n",
              "      <td>9.540000</td>\n",
              "      <td>1417400</td>\n",
              "    </tr>\n",
              "  </tbody>\n",
              "</table>\n",
              "<p>1259 rows × 6 columns</p>\n",
              "</div>\n",
              "      <button class=\"colab-df-convert\" onclick=\"convertToInteractive('df-57140a74-31d8-4026-8072-75a761cbda53')\"\n",
              "              title=\"Convert this dataframe to an interactive table.\"\n",
              "              style=\"display:none;\">\n",
              "\n",
              "  <svg xmlns=\"http://www.w3.org/2000/svg\" height=\"24px\"viewBox=\"0 0 24 24\"\n",
              "       width=\"24px\">\n",
              "    <path d=\"M0 0h24v24H0V0z\" fill=\"none\"/>\n",
              "    <path d=\"M18.56 5.44l.94 2.06.94-2.06 2.06-.94-2.06-.94-.94-2.06-.94 2.06-2.06.94zm-11 1L8.5 8.5l.94-2.06 2.06-.94-2.06-.94L8.5 2.5l-.94 2.06-2.06.94zm10 10l.94 2.06.94-2.06 2.06-.94-2.06-.94-.94-2.06-.94 2.06-2.06.94z\"/><path d=\"M17.41 7.96l-1.37-1.37c-.4-.4-.92-.59-1.43-.59-.52 0-1.04.2-1.43.59L10.3 9.45l-7.72 7.72c-.78.78-.78 2.05 0 2.83L4 21.41c.39.39.9.59 1.41.59.51 0 1.02-.2 1.41-.59l7.78-7.78 2.81-2.81c.8-.78.8-2.07 0-2.86zM5.41 20L4 18.59l7.72-7.72 1.47 1.35L5.41 20z\"/>\n",
              "  </svg>\n",
              "      </button>\n",
              "\n",
              "\n",
              "\n",
              "    <div id=\"df-38f9ed20-cc94-4125-93cd-ff9d2d469e86\">\n",
              "      <button class=\"colab-df-quickchart\" onclick=\"quickchart('df-38f9ed20-cc94-4125-93cd-ff9d2d469e86')\"\n",
              "              title=\"Suggest charts.\"\n",
              "              style=\"display:none;\">\n",
              "\n",
              "<svg xmlns=\"http://www.w3.org/2000/svg\" height=\"24px\"viewBox=\"0 0 24 24\"\n",
              "     width=\"24px\">\n",
              "    <g>\n",
              "        <path d=\"M19 3H5c-1.1 0-2 .9-2 2v14c0 1.1.9 2 2 2h14c1.1 0 2-.9 2-2V5c0-1.1-.9-2-2-2zM9 17H7v-7h2v7zm4 0h-2V7h2v10zm4 0h-2v-4h2v4z\"/>\n",
              "    </g>\n",
              "</svg>\n",
              "      </button>\n",
              "    </div>\n",
              "\n",
              "<style>\n",
              "  .colab-df-quickchart {\n",
              "    background-color: #E8F0FE;\n",
              "    border: none;\n",
              "    border-radius: 50%;\n",
              "    cursor: pointer;\n",
              "    display: none;\n",
              "    fill: #1967D2;\n",
              "    height: 32px;\n",
              "    padding: 0 0 0 0;\n",
              "    width: 32px;\n",
              "  }\n",
              "\n",
              "  .colab-df-quickchart:hover {\n",
              "    background-color: #E2EBFA;\n",
              "    box-shadow: 0px 1px 2px rgba(60, 64, 67, 0.3), 0px 1px 3px 1px rgba(60, 64, 67, 0.15);\n",
              "    fill: #174EA6;\n",
              "  }\n",
              "\n",
              "  [theme=dark] .colab-df-quickchart {\n",
              "    background-color: #3B4455;\n",
              "    fill: #D2E3FC;\n",
              "  }\n",
              "\n",
              "  [theme=dark] .colab-df-quickchart:hover {\n",
              "    background-color: #434B5C;\n",
              "    box-shadow: 0px 1px 3px 1px rgba(0, 0, 0, 0.15);\n",
              "    filter: drop-shadow(0px 1px 2px rgba(0, 0, 0, 0.3));\n",
              "    fill: #FFFFFF;\n",
              "  }\n",
              "</style>\n",
              "\n",
              "    <script>\n",
              "      async function quickchart(key) {\n",
              "        const containerElement = document.querySelector('#' + key);\n",
              "        const charts = await google.colab.kernel.invokeFunction(\n",
              "            'suggestCharts', [key], {});\n",
              "      }\n",
              "    </script>\n",
              "\n",
              "      <script>\n",
              "\n",
              "function displayQuickchartButton(domScope) {\n",
              "  let quickchartButtonEl =\n",
              "    domScope.querySelector('#df-38f9ed20-cc94-4125-93cd-ff9d2d469e86 button.colab-df-quickchart');\n",
              "  quickchartButtonEl.style.display =\n",
              "    google.colab.kernel.accessAllowed ? 'block' : 'none';\n",
              "}\n",
              "\n",
              "        displayQuickchartButton(document);\n",
              "      </script>\n",
              "      <style>\n",
              "    .colab-df-container {\n",
              "      display:flex;\n",
              "      flex-wrap:wrap;\n",
              "      gap: 12px;\n",
              "    }\n",
              "\n",
              "    .colab-df-convert {\n",
              "      background-color: #E8F0FE;\n",
              "      border: none;\n",
              "      border-radius: 50%;\n",
              "      cursor: pointer;\n",
              "      display: none;\n",
              "      fill: #1967D2;\n",
              "      height: 32px;\n",
              "      padding: 0 0 0 0;\n",
              "      width: 32px;\n",
              "    }\n",
              "\n",
              "    .colab-df-convert:hover {\n",
              "      background-color: #E2EBFA;\n",
              "      box-shadow: 0px 1px 2px rgba(60, 64, 67, 0.3), 0px 1px 3px 1px rgba(60, 64, 67, 0.15);\n",
              "      fill: #174EA6;\n",
              "    }\n",
              "\n",
              "    [theme=dark] .colab-df-convert {\n",
              "      background-color: #3B4455;\n",
              "      fill: #D2E3FC;\n",
              "    }\n",
              "\n",
              "    [theme=dark] .colab-df-convert:hover {\n",
              "      background-color: #434B5C;\n",
              "      box-shadow: 0px 1px 3px 1px rgba(0, 0, 0, 0.15);\n",
              "      filter: drop-shadow(0px 1px 2px rgba(0, 0, 0, 0.3));\n",
              "      fill: #FFFFFF;\n",
              "    }\n",
              "  </style>\n",
              "\n",
              "      <script>\n",
              "        const buttonEl =\n",
              "          document.querySelector('#df-57140a74-31d8-4026-8072-75a761cbda53 button.colab-df-convert');\n",
              "        buttonEl.style.display =\n",
              "          google.colab.kernel.accessAllowed ? 'block' : 'none';\n",
              "\n",
              "        async function convertToInteractive(key) {\n",
              "          const element = document.querySelector('#df-57140a74-31d8-4026-8072-75a761cbda53');\n",
              "          const dataTable =\n",
              "            await google.colab.kernel.invokeFunction('convertToInteractive',\n",
              "                                                     [key], {});\n",
              "          if (!dataTable) return;\n",
              "\n",
              "          const docLinkHtml = 'Like what you see? Visit the ' +\n",
              "            '<a target=\"_blank\" href=https://colab.research.google.com/notebooks/data_table.ipynb>data table notebook</a>'\n",
              "            + ' to learn more about interactive tables.';\n",
              "          element.innerHTML = '';\n",
              "          dataTable['output_type'] = 'display_data';\n",
              "          await google.colab.output.renderOutput(dataTable, element);\n",
              "          const docLink = document.createElement('div');\n",
              "          docLink.innerHTML = docLinkHtml;\n",
              "          element.appendChild(docLink);\n",
              "        }\n",
              "      </script>\n",
              "    </div>\n",
              "  </div>\n"
            ]
          },
          "metadata": {},
          "execution_count": 6
        }
      ]
    },
    {
      "cell_type": "code",
      "source": [
        "# Nombre de las columnas del DF\n",
        "tcs.columns"
      ],
      "metadata": {
        "id": "V71GVsmAeWxh",
        "colab": {
          "base_uri": "https://localhost:8080/"
        },
        "outputId": "1e7b7ad7-694b-438c-8e2f-372cf9e8dfb9"
      },
      "execution_count": 8,
      "outputs": [
        {
          "output_type": "execute_result",
          "data": {
            "text/plain": [
              "Index(['Open', 'High', 'Low', 'Close', 'Adj Close', 'Volume'], dtype='object')"
            ]
          },
          "metadata": {},
          "execution_count": 8
        }
      ]
    },
    {
      "cell_type": "code",
      "source": [
        "tcs['Adj Close'].head(50) #head para los primeros 50, tale para los ultimos 50"
      ],
      "metadata": {
        "colab": {
          "base_uri": "https://localhost:8080/"
        },
        "id": "x1I-KEr5fRy-",
        "outputId": "4157da02-4311-45cb-a290-362e8d47ff60"
      },
      "execution_count": 13,
      "outputs": [
        {
          "output_type": "execute_result",
          "data": {
            "text/plain": [
              "Date\n",
              "2016-01-04    7.637174\n",
              "2016-01-05    7.253913\n",
              "2016-01-06    7.076304\n",
              "2016-01-07    6.711739\n",
              "2016-01-08    3.944782\n",
              "2016-01-11    4.169130\n",
              "2016-01-12    4.608478\n",
              "2016-01-13    4.477609\n",
              "2016-01-14    4.468261\n",
              "2016-01-15    4.318696\n",
              "2016-01-19    4.113044\n",
              "2016-01-20    4.243913\n",
              "2016-01-21    4.468261\n",
              "2016-01-22    4.290652\n",
              "2016-01-25    3.888695\n",
              "2016-01-26    4.122391\n",
              "2016-01-27    4.066304\n",
              "2016-01-28    3.888695\n",
              "2016-01-29    4.038261\n",
              "2016-02-01    4.047609\n",
              "2016-02-02    3.851304\n",
              "2016-02-03    3.813913\n",
              "2016-02-04    3.926087\n",
              "2016-02-05    3.804565\n",
              "2016-02-08    3.841957\n",
              "2016-02-09    3.739130\n",
              "2016-02-10    3.748479\n",
              "2016-02-11    3.673696\n",
              "2016-02-12    4.150435\n",
              "2016-02-16    4.468261\n",
              "2016-02-17    4.701957\n",
              "2016-02-18    4.879565\n",
              "2016-02-19    4.870217\n",
              "2016-02-22    4.973044\n",
              "2016-02-23    4.916957\n",
              "2016-02-24    4.786087\n",
              "2016-02-25    4.776739\n",
              "2016-02-26    4.926304\n",
              "2016-02-29    5.057174\n",
              "2016-03-01    5.057174\n",
              "2016-03-02    5.094565\n",
              "2016-03-03    5.505869\n",
              "2016-03-04    5.720870\n",
              "2016-03-07    6.122827\n",
              "2016-03-08    5.487174\n",
              "2016-03-09    5.477826\n",
              "2016-03-10    5.337609\n",
              "2016-03-11    5.674131\n",
              "2016-03-14    5.618044\n",
              "2016-03-15    5.225435\n",
              "Name: Adj Close, dtype: float64"
            ]
          },
          "metadata": {},
          "execution_count": 13
        }
      ]
    },
    {
      "cell_type": "code",
      "source": [
        "# Módulo para realizar interfaz gráfica\n",
        "import matplotlib.pyplot as plt\n",
        "from pylab import plot\n",
        "\n",
        "import seaborn as sns"
      ],
      "metadata": {
        "id": "Vlir3AV6gjPn"
      },
      "execution_count": 18,
      "outputs": []
    },
    {
      "cell_type": "code",
      "source": [
        "tcs['Adj Close'].plot(label='TCS',figsize=(15,8))"
      ],
      "metadata": {
        "colab": {
          "base_uri": "https://localhost:8080/",
          "height": 506
        },
        "id": "yei0pEO-huQE",
        "outputId": "0703e544-d6f8-4af3-ffaa-2704ad468689"
      },
      "execution_count": 19,
      "outputs": [
        {
          "output_type": "execute_result",
          "data": {
            "text/plain": [
              "<Axes: xlabel='Date'>"
            ]
          },
          "metadata": {},
          "execution_count": 19
        },
        {
          "output_type": "display_data",
          "data": {
            "text/plain": [
              "<Figure size 1500x800 with 1 Axes>"
            ],
            "image/png": "[encoded data removed]"
          },
          "metadata": {}
        }
      ]
    }
  ]
}