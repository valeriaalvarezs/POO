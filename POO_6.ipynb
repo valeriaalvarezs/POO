{
  "nbformat": 4,
  "nbformat_minor": 0,
  "metadata": {
    "colab": {
      "provenance": []
    },
    "kernelspec": {
      "name": "python3",
      "display_name": "Python 3"
    },
    "language_info": {
      "name": "python"
    }
  },
  "cells": [
    {
      "cell_type": "markdown",
      "source": [
        "#Condicionales"
      ],
      "metadata": {
        "id": "NGQkDXbfZCob"
      }
    },
    {
      "cell_type": "markdown",
      "source": [
        "If (condition):\n",
        "\n",
        "Executes this block if condition is true\n",
        "\n",
        "else:\n",
        "\n",
        "Executes the block if condition is false"
      ],
      "metadata": {
        "id": "7WmTIOLjX_4V"
      }
    },
    {
      "cell_type": "code",
      "execution_count": null,
      "metadata": {
        "colab": {
          "base_uri": "https://localhost:8080/"
        },
        "id": "PFfA2nFVXzTy",
        "outputId": "b218bd9c-c81e-461f-d4d6-2ab63545b3ae"
      },
      "outputs": [
        {
          "output_type": "stream",
          "name": "stdout",
          "text": [
            "El numero es par\n"
          ]
        }
      ],
      "source": [
        "# Ejemplo\n",
        "\n",
        "x=90\n",
        "if x %2==0:\n",
        "  if x >10:\n",
        "    print(\"El numero es par\")\n",
        "  else:\n",
        "    print(\"El numero es par pero no es mayor a 10\")\n",
        "else:\n",
        "  print(\"El numero no es par\")\n"
      ]
    }
  ]
}