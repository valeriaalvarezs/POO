{
  "nbformat": 4,
  "nbformat_minor": 0,
  "metadata": {
    "colab": {
      "provenance": []
    },
    "kernelspec": {
      "name": "python3",
      "display_name": "Python 3"
    },
    "language_info": {
      "name": "python"
    }
  },
  "cells": [
    {
      "cell_type": "markdown",
      "source": [
        "## Tarea VALERIA ALVAREZ y REGINA TRIGO\n",
        "### Instrucciones:\n",
        "\n",
        "\n",
        "*   La tarea se entrega individualmente.\n",
        "*   Leer los lineamientos e instrucciones que se enuentran en Moodle.\n",
        "*   Sube tu Notebook a tu GitHub\n",
        "*  La entrega se hace por Moodle compartiendo tu liga a GitHub.\n",
        "*  Fecha de entrega  **Martes 26 de septiembre antes de las 20:00hrs**\n",
        "*  Si existiera duda alguna, mandarlas por email.\n",
        "\n"
      ],
      "metadata": {
        "id": "-DR7LcQd27OM"
      }
    },
    {
      "cell_type": "code",
      "source": [
        "# Crea una clase que se llame Animal\n",
        "class Animal:\n",
        "  def __init__(self,name,raza): # define un inicializador que contenga dos argumentos (a y b) que asignarás\n",
        "    self.name=name\n",
        "    self.raza=raza\n",
        "# Crea una clase heredada que se llame Mascota\n",
        "class Mascota(Animal):\n",
        "    # usar super(), (objeto temporal de la superclase) nos permite acceder a métodos de la clase madre\n",
        "    # define tres métodos asociados a Mascota\n",
        "    def __init__(self):\n",
        "        super().__init__(self) #con el super. se llama a que se inicien las clases\n",
        "        \"Class created\"\n",
        "\n",
        "    def name(self):#clase heredada\n",
        "      print(\"Me llamo Boby\")\n",
        "\n",
        "    def raza(self):#clase heredada\n",
        "      print(\"Soy un perro\")\n",
        "\n"
      ],
      "metadata": {
        "id": "scsnMvfv7MXN"
      },
      "execution_count": 34,
      "outputs": []
    },
    {
      "cell_type": "code",
      "source": [
        "mianimal=Animal(\"Boby\",\"perro\") #se ponen los valores para las caracteristicas name y raza de la clase Animal\n",
        "\n",
        "print(mianimal) #se imprime lo que es mianimal para que muestre que pertenece a la clase Animal\n",
        "\n",
        "print(\"Nombre del animal: \"+mianimal.name) # se imprime el valor de name\n",
        "\n",
        "print(\"Tipo de animal: \"+mianimal.raza) #se imprime el valor de raza"
      ],
      "metadata": {
        "colab": {
          "base_uri": "https://localhost:8080/"
        },
        "id": "631pfwDHJx-U",
        "outputId": "abdaab2c-823c-469e-af0f-372898f12af2"
      },
      "execution_count": 35,
      "outputs": [
        {
          "output_type": "stream",
          "name": "stdout",
          "text": [
            "<__main__.Animal object at 0x7e1c7c529120>\n",
            "Nombre del animal: Boby\n",
            "Tipo de animal: perro\n"
          ]
        }
      ]
    },
    {
      "cell_type": "code",
      "source": [
        "# Crea dos clases que tengan asignados nombres de Países.\n",
        "# Para cada clase, define al menos tres características del País considerado: por ejemplo, capital, idioma, etcétera\n",
        "\n",
        "class Pais1(): # se define la primera clase para el pais 1\n",
        "  def __init__(self,pais,ciudad,idioma,nacionalidad):\n",
        "    self.pais=pais\n",
        "    self.ciudad=ciudad\n",
        "    self.idioma=idioma\n",
        "    self.nacionalidad=nacionalidad\n",
        "\n",
        "class Pais2(): # se define la segunda clase para el pais 2\n",
        "  def __init__(self,pais,ciudad,idioma,nacionalidad):\n",
        "    self.pais=pais\n",
        "    self.ciudad=ciudad\n",
        "    self.idioma=idioma\n",
        "    self.nacionalidad=nacionalidad\n",
        "\n",
        "# Define dos variables que sean cursores\n",
        "# se ponen los valores de las caracteristicas de las clases escritas antes\n",
        "pais1=Pais1(\"Mexico\",\"CDMX\",\"Español\",\"mexicano(a)\")\n",
        "pais2=Pais2(\"España\",\"Madrid\",\"Español\",\"Español\")\n",
        "\n",
        "# Comenta tus resultados"
      ],
      "metadata": {
        "id": "ZielRh0TBBEv"
      },
      "execution_count": 36,
      "outputs": []
    },
    {
      "cell_type": "code",
      "source": [
        "# para cada clase se imprime los valores dados de las caracteristicas\n",
        "print(\"Pais 1: \"+pais1.pais)\n",
        "print(\"Ciudad 1: \"+pais1.ciudad)\n",
        "print(\"Idioma 1: \"+pais1.idioma)\n",
        "print(\"Nacionalidad 1: \"+pais1.nacionalidad)\n",
        "\n",
        "print(\"Pais 2: \"+pais2.pais)\n",
        "print(\"Ciudad 2: \"+pais2.ciudad)\n",
        "print(\"Idioma 2: \"+pais2.idioma)\n",
        "print(\"Nacionalidad 2: \"+pais2.nacionalidad)"
      ],
      "metadata": {
        "colab": {
          "base_uri": "https://localhost:8080/"
        },
        "id": "ZavCcjOhNzUw",
        "outputId": "5bd2fe1e-e63d-49fc-e20c-789088fa93f1"
      },
      "execution_count": 37,
      "outputs": [
        {
          "output_type": "stream",
          "name": "stdout",
          "text": [
            "Pais 1: Mexico\n",
            "Ciudad 1: CDMX\n",
            "Idioma 1: Español\n",
            "Nacionalidad 1: mexicano(a)\n",
            "Pais 2: España\n",
            "Ciudad 2: Madrid\n",
            "Idioma 2: Español\n",
            "Nacionalidad 2: Español\n"
          ]
        }
      ]
    },
    {
      "cell_type": "code",
      "execution_count": 38,
      "metadata": {
        "id": "3d4VtN9D7FWB"
      },
      "outputs": [],
      "source": [
        "## Ejemplo de polimorfismo de clase y herencia.\n",
        "import math\n",
        "# Crea una clase madre que se llame Forma, y se define area y perimetro para usarlas en las clases heredadas\n",
        "class Forma():\n",
        "  def __init__(self):\n",
        "    print(\"Class created\")\n",
        "  def area(self):\n",
        "    pass\n",
        "  def perimetro(self):\n",
        "    pass\n",
        "\n",
        "# Crea dos clases heredadas de la clase madre Forma que calcule el área y el perímetro de un círculo\n",
        "# y de un cuadrado, respectivamente.\n",
        "class Circulo(Forma): #clase heredada de la clase maestra Forma\n",
        "  def __init__(self,radio):\n",
        "    self.radio=radio\n",
        "  def area(self):\n",
        "    area=math.pi*self.radio**2 # se coloca en area la formula para recuperar el area de un numero dado para el circulo\n",
        "    return area\n",
        "  def perimetro(self):\n",
        "    perimetro= math.pi*self.radio*2  # se coloca la formula para el perimetro del circulo\n",
        "    return perimetro #te regresa el perimetro con la formula puesta\n",
        "\n",
        "class Cuadrado(Forma): #clase heredada de la clase maestra Forma\n",
        "  def __init__(self,lado):\n",
        "    self.lado=lado\n",
        "  def area(self):\n",
        "    area=self.lado**2 # se coloca la formula para el area del cuadrado\n",
        "    return area\n",
        "  def perimetro(self):\n",
        "    perimetro= 4*self.lado  # se coloca la formula para el perimetro del cuadrado\n",
        "    return perimetro #te regresa el perimetro con la formula puesta"
      ]
    },
    {
      "cell_type": "code",
      "source": [
        "# Con el valor dado (5) se recupera el area y el perimetro del circulo\n",
        "circulo=Circulo(5)\n",
        "print(\"Area del circulo:\")\n",
        "print(circulo.area())\n",
        "print(\"Perimetro del circulo:\")\n",
        "print(circulo.perimetro())\n",
        "# Con el valor dado (5) se recupera el area y el perimetro del cuadrado\n",
        "cuadrado=Cuadrado(5)\n",
        "print(\"Area del cuadrado:\")\n",
        "print(cuadrado.area())\n",
        "print(\"Perimetro del cuadrado:\")\n",
        "print(cuadrado.perimetro())"
      ],
      "metadata": {
        "colab": {
          "base_uri": "https://localhost:8080/"
        },
        "id": "P45nmmNKYE64",
        "outputId": "3d198d02-007d-44f1-c8f5-1ca54251a4af"
      },
      "execution_count": 39,
      "outputs": [
        {
          "output_type": "stream",
          "name": "stdout",
          "text": [
            "Area del circulo:\n",
            "78.53981633974483\n",
            "Perimetro del circulo:\n",
            "31.41592653589793\n",
            "Area del cuadrado:\n",
            "25\n",
            "Perimetro del cuadrado:\n",
            "20\n"
          ]
        }
      ]
    }
  ]
}