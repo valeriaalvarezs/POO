{
  "nbformat": 4,
  "nbformat_minor": 0,
  "metadata": {
    "colab": {
      "provenance": []
    },
    "kernelspec": {
      "name": "python3",
      "display_name": "Python 3"
    },
    "language_info": {
      "name": "python"
    }
  },
  "cells": [
    {
      "cell_type": "markdown",
      "source": [
        "# Tarea 2\n",
        "## Matriz de 10x10 aleatoria"
      ],
      "metadata": {
        "id": "Cs_H7sdnQump"
      }
    },
    {
      "cell_type": "code",
      "source": [
        "#Importar módulo pandas\n",
        "import pandas as pd"
      ],
      "metadata": {
        "id": "gKiu5kj_YN9n"
      },
      "execution_count": 113,
      "outputs": []
    },
    {
      "cell_type": "code",
      "source": [
        "import random"
      ],
      "metadata": {
        "id": "6vwTZ9IwSS_u"
      },
      "execution_count": 4,
      "outputs": []
    },
    {
      "cell_type": "code",
      "source": [
        "lista_1=[]\n",
        "for i in range (1,11): # se abre un for para que haya un rango de 1 a 10 que se generaran los numeros aleatorios\n",
        "  x = random.randint(0, 100) #se escoge un numero entero aleatorio de desde 0 a 100\n",
        "  lista_1.append(x) #append sirve para que los valores se agreguen a la lista 1\n",
        "  print(lista_1)"
      ],
      "metadata": {
        "colab": {
          "base_uri": "https://localhost:8080/"
        },
        "id": "VdfwYnl-ROPd",
        "outputId": "a5ba62ba-53e5-4ceb-c27c-96a3a684a6cd"
      },
      "execution_count": 133,
      "outputs": [
        {
          "output_type": "stream",
          "name": "stdout",
          "text": [
            "[78]\n",
            "[78, 12]\n",
            "[78, 12, 50]\n",
            "[78, 12, 50, 46]\n",
            "[78, 12, 50, 46, 22]\n",
            "[78, 12, 50, 46, 22, 31]\n",
            "[78, 12, 50, 46, 22, 31, 81]\n",
            "[78, 12, 50, 46, 22, 31, 81, 97]\n",
            "[78, 12, 50, 46, 22, 31, 81, 97, 99]\n",
            "[78, 12, 50, 46, 22, 31, 81, 97, 99, 47]\n"
          ]
        }
      ]
    },
    {
      "cell_type": "code",
      "source": [
        "lista_2=[]\n",
        "for i in range (1,11):\n",
        "  x = random.randint(0, 100)\n",
        "  lista_2.append(x)\n",
        "  print(lista_2)"
      ],
      "metadata": {
        "colab": {
          "base_uri": "https://localhost:8080/"
        },
        "id": "Z-aPNPDtSlGx",
        "outputId": "8c2ee490-42f7-48ba-c40a-e07d1d675539"
      },
      "execution_count": 86,
      "outputs": [
        {
          "output_type": "stream",
          "name": "stdout",
          "text": [
            "[10]\n",
            "[10, 47]\n",
            "[10, 47, 65]\n",
            "[10, 47, 65, 59]\n",
            "[10, 47, 65, 59, 45]\n",
            "[10, 47, 65, 59, 45, 74]\n",
            "[10, 47, 65, 59, 45, 74, 23]\n",
            "[10, 47, 65, 59, 45, 74, 23, 82]\n",
            "[10, 47, 65, 59, 45, 74, 23, 82, 18]\n",
            "[10, 47, 65, 59, 45, 74, 23, 82, 18, 78]\n"
          ]
        }
      ]
    },
    {
      "cell_type": "code",
      "source": [
        "lista_3=[]\n",
        "for i in range (1,11):\n",
        "  x = random.randint(0, 100)\n",
        "  lista_3.append(x)\n",
        "  print(lista_3)"
      ],
      "metadata": {
        "colab": {
          "base_uri": "https://localhost:8080/"
        },
        "id": "F4rWL_okTJHV",
        "outputId": "8803bc47-5266-4ba5-b822-f4e51ed98a2c"
      },
      "execution_count": 87,
      "outputs": [
        {
          "output_type": "stream",
          "name": "stdout",
          "text": [
            "[24]\n",
            "[24, 3]\n",
            "[24, 3, 32]\n",
            "[24, 3, 32, 51]\n",
            "[24, 3, 32, 51, 48]\n",
            "[24, 3, 32, 51, 48, 71]\n",
            "[24, 3, 32, 51, 48, 71, 93]\n",
            "[24, 3, 32, 51, 48, 71, 93, 66]\n",
            "[24, 3, 32, 51, 48, 71, 93, 66, 87]\n",
            "[24, 3, 32, 51, 48, 71, 93, 66, 87, 68]\n"
          ]
        }
      ]
    },
    {
      "cell_type": "code",
      "source": [
        "lista_4=[]\n",
        "for i in range (1,11):\n",
        "  x = random.randint(0, 100)\n",
        "  lista_4.append(x)\n",
        "  print(lista_4)"
      ],
      "metadata": {
        "colab": {
          "base_uri": "https://localhost:8080/"
        },
        "id": "KRh4vzCtTYrs",
        "outputId": "29d1f136-a9b3-4fe6-a3a1-e6b2eab5ea0e"
      },
      "execution_count": 88,
      "outputs": [
        {
          "output_type": "stream",
          "name": "stdout",
          "text": [
            "[43]\n",
            "[43, 63]\n",
            "[43, 63, 13]\n",
            "[43, 63, 13, 77]\n",
            "[43, 63, 13, 77, 61]\n",
            "[43, 63, 13, 77, 61, 23]\n",
            "[43, 63, 13, 77, 61, 23, 77]\n",
            "[43, 63, 13, 77, 61, 23, 77, 44]\n",
            "[43, 63, 13, 77, 61, 23, 77, 44, 71]\n",
            "[43, 63, 13, 77, 61, 23, 77, 44, 71, 88]\n"
          ]
        }
      ]
    },
    {
      "cell_type": "code",
      "source": [
        "lista_5=[]\n",
        "for i in range (1,11):\n",
        "  x = random.randint(0, 100)\n",
        "  lista_5.append(x)\n",
        "  print(lista_5)"
      ],
      "metadata": {
        "colab": {
          "base_uri": "https://localhost:8080/"
        },
        "id": "13ooc-79Tasg",
        "outputId": "069a026c-27b0-482b-9709-8199173759ee"
      },
      "execution_count": 89,
      "outputs": [
        {
          "output_type": "stream",
          "name": "stdout",
          "text": [
            "[14]\n",
            "[14, 16]\n",
            "[14, 16, 72]\n",
            "[14, 16, 72, 18]\n",
            "[14, 16, 72, 18, 15]\n",
            "[14, 16, 72, 18, 15, 7]\n",
            "[14, 16, 72, 18, 15, 7, 59]\n",
            "[14, 16, 72, 18, 15, 7, 59, 26]\n",
            "[14, 16, 72, 18, 15, 7, 59, 26, 98]\n",
            "[14, 16, 72, 18, 15, 7, 59, 26, 98, 63]\n"
          ]
        }
      ]
    },
    {
      "cell_type": "code",
      "source": [
        "lista_6=[]\n",
        "for i in range (1,11):\n",
        "  x = random.randint(0, 100)\n",
        "  lista_6.append(x)\n",
        "  print(lista_6)"
      ],
      "metadata": {
        "colab": {
          "base_uri": "https://localhost:8080/"
        },
        "id": "MK4AleqKTczc",
        "outputId": "bad98217-10a1-410a-aa4c-3e43fb096e93"
      },
      "execution_count": 90,
      "outputs": [
        {
          "output_type": "stream",
          "name": "stdout",
          "text": [
            "[27]\n",
            "[27, 17]\n",
            "[27, 17, 21]\n",
            "[27, 17, 21, 56]\n",
            "[27, 17, 21, 56, 44]\n",
            "[27, 17, 21, 56, 44, 86]\n",
            "[27, 17, 21, 56, 44, 86, 73]\n",
            "[27, 17, 21, 56, 44, 86, 73, 14]\n",
            "[27, 17, 21, 56, 44, 86, 73, 14, 99]\n",
            "[27, 17, 21, 56, 44, 86, 73, 14, 99, 23]\n"
          ]
        }
      ]
    },
    {
      "cell_type": "code",
      "source": [
        "lista_7=[]\n",
        "for i in range (1,11):\n",
        "  x = random.randint(0, 100)\n",
        "  lista_7.append(x)\n",
        "  print(lista_7)"
      ],
      "metadata": {
        "colab": {
          "base_uri": "https://localhost:8080/"
        },
        "id": "yxermfM_TfBq",
        "outputId": "8936e2de-7c10-4357-8574-575e61e4aa8b"
      },
      "execution_count": 91,
      "outputs": [
        {
          "output_type": "stream",
          "name": "stdout",
          "text": [
            "[9]\n",
            "[9, 61]\n",
            "[9, 61, 94]\n",
            "[9, 61, 94, 12]\n",
            "[9, 61, 94, 12, 7]\n",
            "[9, 61, 94, 12, 7, 54]\n",
            "[9, 61, 94, 12, 7, 54, 60]\n",
            "[9, 61, 94, 12, 7, 54, 60, 68]\n",
            "[9, 61, 94, 12, 7, 54, 60, 68, 10]\n",
            "[9, 61, 94, 12, 7, 54, 60, 68, 10, 44]\n"
          ]
        }
      ]
    },
    {
      "cell_type": "code",
      "source": [
        "lista_8=[]\n",
        "for i in range (1,11):\n",
        "  x = random.randint(0, 100)\n",
        "  lista_8.append(x)\n",
        "  print(lista_8)"
      ],
      "metadata": {
        "colab": {
          "base_uri": "https://localhost:8080/"
        },
        "id": "c1_hbbF2ThZ1",
        "outputId": "f5a82ff3-cac3-4258-924b-a254d687c33f"
      },
      "execution_count": 92,
      "outputs": [
        {
          "output_type": "stream",
          "name": "stdout",
          "text": [
            "[38]\n",
            "[38, 61]\n",
            "[38, 61, 75]\n",
            "[38, 61, 75, 6]\n",
            "[38, 61, 75, 6, 4]\n",
            "[38, 61, 75, 6, 4, 95]\n",
            "[38, 61, 75, 6, 4, 95, 49]\n",
            "[38, 61, 75, 6, 4, 95, 49, 87]\n",
            "[38, 61, 75, 6, 4, 95, 49, 87, 24]\n",
            "[38, 61, 75, 6, 4, 95, 49, 87, 24, 99]\n"
          ]
        }
      ]
    },
    {
      "cell_type": "code",
      "source": [
        "lista_9=[]\n",
        "for i in range (1,11):\n",
        "  x = random.randint(0, 100)\n",
        "  lista_9.append(x)\n",
        "  print(lista_9)"
      ],
      "metadata": {
        "colab": {
          "base_uri": "https://localhost:8080/"
        },
        "id": "gVbOI0TITjpn",
        "outputId": "53a226c0-cbef-4d00-c9ba-03f9a39b27f6"
      },
      "execution_count": 93,
      "outputs": [
        {
          "output_type": "stream",
          "name": "stdout",
          "text": [
            "[91]\n",
            "[91, 100]\n",
            "[91, 100, 37]\n",
            "[91, 100, 37, 54]\n",
            "[91, 100, 37, 54, 83]\n",
            "[91, 100, 37, 54, 83, 94]\n",
            "[91, 100, 37, 54, 83, 94, 91]\n",
            "[91, 100, 37, 54, 83, 94, 91, 17]\n",
            "[91, 100, 37, 54, 83, 94, 91, 17, 67]\n",
            "[91, 100, 37, 54, 83, 94, 91, 17, 67, 98]\n"
          ]
        }
      ]
    },
    {
      "cell_type": "code",
      "source": [
        "lista_10=[]\n",
        "for i in range (1,11):\n",
        "  x = random.randint(0, 100)\n",
        "  lista_10.append(x)\n",
        "  print(lista_10)"
      ],
      "metadata": {
        "colab": {
          "base_uri": "https://localhost:8080/"
        },
        "id": "GcDePkMHUX4n",
        "outputId": "4a89c7b8-c014-43d0-f97f-9aca1b941bed"
      },
      "execution_count": 94,
      "outputs": [
        {
          "output_type": "stream",
          "name": "stdout",
          "text": [
            "[17]\n",
            "[17, 55]\n",
            "[17, 55, 95]\n",
            "[17, 55, 95, 50]\n",
            "[17, 55, 95, 50, 53]\n",
            "[17, 55, 95, 50, 53, 97]\n",
            "[17, 55, 95, 50, 53, 97, 80]\n",
            "[17, 55, 95, 50, 53, 97, 80, 59]\n",
            "[17, 55, 95, 50, 53, 97, 80, 59, 75]\n",
            "[17, 55, 95, 50, 53, 97, 80, 59, 75, 34]\n"
          ]
        }
      ]
    },
    {
      "cell_type": "code",
      "source": [
        "listas={\"A\":lista_1,\n",
        "        \"B\":lista_2,\n",
        "        \"C\":lista_3,\n",
        "        \"D\":lista_4,\n",
        "        \"E\":lista_5,\n",
        "        \"F\":lista_6,\n",
        "        \"G\":lista_7,\n",
        "        \"H\":lista_8,\n",
        "        \"I\":lista_9,\n",
        "        \"J\":lista_10}\n",
        "print(listas)"
      ],
      "metadata": {
        "colab": {
          "base_uri": "https://localhost:8080/"
        },
        "id": "SfuS-MvQWR7j",
        "outputId": "389af060-2f8f-472b-f720-598c7ce517a2"
      },
      "execution_count": 127,
      "outputs": [
        {
          "output_type": "stream",
          "name": "stdout",
          "text": [
            "{'A': [70, 78, 91, 21, 87, 98, 62, 72, 97, 56], 'B': [10, 47, 65, 59, 45, 74, 23, 82, 18, 78], 'C': [24, 3, 32, 51, 48, 71, 93, 66, 87, 68], 'D': [43, 63, 13, 77, 61, 23, 77, 44, 71, 88], 'E': [14, 16, 72, 18, 15, 7, 59, 26, 98, 63], 'F': [27, 17, 21, 56, 44, 86, 73, 14, 99, 23], 'G': [9, 61, 94, 12, 7, 54, 60, 68, 10, 44], 'H': [38, 61, 75, 6, 4, 95, 49, 87, 24, 99], 'I': [91, 100, 37, 54, 83, 94, 91, 17, 67, 98], 'J': [17, 55, 95, 50, 53, 97, 80, 59, 75, 34]}\n"
          ]
        }
      ]
    },
    {
      "cell_type": "code",
      "source": [
        "listas"
      ],
      "metadata": {
        "colab": {
          "base_uri": "https://localhost:8080/"
        },
        "id": "tNZo1RDoYkBz",
        "outputId": "71f4b226-d66b-4aa4-a151-7fef742854e5"
      },
      "execution_count": 129,
      "outputs": [
        {
          "output_type": "execute_result",
          "data": {
            "text/plain": [
              "{'A': [70, 78, 91, 21, 87, 98, 62, 72, 97, 56],\n",
              " 'B': [10, 47, 65, 59, 45, 74, 23, 82, 18, 78],\n",
              " 'C': [24, 3, 32, 51, 48, 71, 93, 66, 87, 68],\n",
              " 'D': [43, 63, 13, 77, 61, 23, 77, 44, 71, 88],\n",
              " 'E': [14, 16, 72, 18, 15, 7, 59, 26, 98, 63],\n",
              " 'F': [27, 17, 21, 56, 44, 86, 73, 14, 99, 23],\n",
              " 'G': [9, 61, 94, 12, 7, 54, 60, 68, 10, 44],\n",
              " 'H': [38, 61, 75, 6, 4, 95, 49, 87, 24, 99],\n",
              " 'I': [91, 100, 37, 54, 83, 94, 91, 17, 67, 98],\n",
              " 'J': [17, 55, 95, 50, 53, 97, 80, 59, 75, 34]}"
            ]
          },
          "metadata": {},
          "execution_count": 129
        }
      ]
    },
    {
      "cell_type": "code",
      "source": [
        "matriz=pd.DataFrame(listas)\n",
        "matriz"
      ],
      "metadata": {
        "colab": {
          "base_uri": "https://localhost:8080/",
          "height": 363
        },
        "id": "c_tYMLfxYuvk",
        "outputId": "302add2e-e78c-4b78-cf97-05af1e1fac84"
      },
      "execution_count": 134,
      "outputs": [
        {
          "output_type": "execute_result",
          "data": {
            "text/plain": [
              "    A   B   C   D   E   F   G   H    I   J\n",
              "0  70  10  24  43  14  27   9  38   91  17\n",
              "1  78  47   3  63  16  17  61  61  100  55\n",
              "2  91  65  32  13  72  21  94  75   37  95\n",
              "3  21  59  51  77  18  56  12   6   54  50\n",
              "4  87  45  48  61  15  44   7   4   83  53\n",
              "5  98  74  71  23   7  86  54  95   94  97\n",
              "6  62  23  93  77  59  73  60  49   91  80\n",
              "7  72  82  66  44  26  14  68  87   17  59\n",
              "8  97  18  87  71  98  99  10  24   67  75\n",
              "9  56  78  68  88  63  23  44  99   98  34"
            ],
            "text/html": [
              "\n",
              "  <div id=\"df-6b828b0f-bf77-418a-8fd9-c23d3a87aa62\" class=\"colab-df-container\">\n",
              "    <div>\n",
              "<style scoped>\n",
              "    .dataframe tbody tr th:only-of-type {\n",
              "        vertical-align: middle;\n",
              "    }\n",
              "\n",
              "    .dataframe tbody tr th {\n",
              "        vertical-align: top;\n",
              "    }\n",
              "\n",
              "    .dataframe thead th {\n",
              "        text-align: right;\n",
              "    }\n",
              "</style>\n",
              "<table border=\"1\" class=\"dataframe\">\n",
              "  <thead>\n",
              "    <tr style=\"text-align: right;\">\n",
              "      <th></th>\n",
              "      <th>A</th>\n",
              "      <th>B</th>\n",
              "      <th>C</th>\n",
              "      <th>D</th>\n",
              "      <th>E</th>\n",
              "      <th>F</th>\n",
              "      <th>G</th>\n",
              "      <th>H</th>\n",
              "      <th>I</th>\n",
              "      <th>J</th>\n",
              "    </tr>\n",
              "  </thead>\n",
              "  <tbody>\n",
              "    <tr>\n",
              "      <th>0</th>\n",
              "      <td>70</td>\n",
              "      <td>10</td>\n",
              "      <td>24</td>\n",
              "      <td>43</td>\n",
              "      <td>14</td>\n",
              "      <td>27</td>\n",
              "      <td>9</td>\n",
              "      <td>38</td>\n",
              "      <td>91</td>\n",
              "      <td>17</td>\n",
              "    </tr>\n",
              "    <tr>\n",
              "      <th>1</th>\n",
              "      <td>78</td>\n",
              "      <td>47</td>\n",
              "      <td>3</td>\n",
              "      <td>63</td>\n",
              "      <td>16</td>\n",
              "      <td>17</td>\n",
              "      <td>61</td>\n",
              "      <td>61</td>\n",
              "      <td>100</td>\n",
              "      <td>55</td>\n",
              "    </tr>\n",
              "    <tr>\n",
              "      <th>2</th>\n",
              "      <td>91</td>\n",
              "      <td>65</td>\n",
              "      <td>32</td>\n",
              "      <td>13</td>\n",
              "      <td>72</td>\n",
              "      <td>21</td>\n",
              "      <td>94</td>\n",
              "      <td>75</td>\n",
              "      <td>37</td>\n",
              "      <td>95</td>\n",
              "    </tr>\n",
              "    <tr>\n",
              "      <th>3</th>\n",
              "      <td>21</td>\n",
              "      <td>59</td>\n",
              "      <td>51</td>\n",
              "      <td>77</td>\n",
              "      <td>18</td>\n",
              "      <td>56</td>\n",
              "      <td>12</td>\n",
              "      <td>6</td>\n",
              "      <td>54</td>\n",
              "      <td>50</td>\n",
              "    </tr>\n",
              "    <tr>\n",
              "      <th>4</th>\n",
              "      <td>87</td>\n",
              "      <td>45</td>\n",
              "      <td>48</td>\n",
              "      <td>61</td>\n",
              "      <td>15</td>\n",
              "      <td>44</td>\n",
              "      <td>7</td>\n",
              "      <td>4</td>\n",
              "      <td>83</td>\n",
              "      <td>53</td>\n",
              "    </tr>\n",
              "    <tr>\n",
              "      <th>5</th>\n",
              "      <td>98</td>\n",
              "      <td>74</td>\n",
              "      <td>71</td>\n",
              "      <td>23</td>\n",
              "      <td>7</td>\n",
              "      <td>86</td>\n",
              "      <td>54</td>\n",
              "      <td>95</td>\n",
              "      <td>94</td>\n",
              "      <td>97</td>\n",
              "    </tr>\n",
              "    <tr>\n",
              "      <th>6</th>\n",
              "      <td>62</td>\n",
              "      <td>23</td>\n",
              "      <td>93</td>\n",
              "      <td>77</td>\n",
              "      <td>59</td>\n",
              "      <td>73</td>\n",
              "      <td>60</td>\n",
              "      <td>49</td>\n",
              "      <td>91</td>\n",
              "      <td>80</td>\n",
              "    </tr>\n",
              "    <tr>\n",
              "      <th>7</th>\n",
              "      <td>72</td>\n",
              "      <td>82</td>\n",
              "      <td>66</td>\n",
              "      <td>44</td>\n",
              "      <td>26</td>\n",
              "      <td>14</td>\n",
              "      <td>68</td>\n",
              "      <td>87</td>\n",
              "      <td>17</td>\n",
              "      <td>59</td>\n",
              "    </tr>\n",
              "    <tr>\n",
              "      <th>8</th>\n",
              "      <td>97</td>\n",
              "      <td>18</td>\n",
              "      <td>87</td>\n",
              "      <td>71</td>\n",
              "      <td>98</td>\n",
              "      <td>99</td>\n",
              "      <td>10</td>\n",
              "      <td>24</td>\n",
              "      <td>67</td>\n",
              "      <td>75</td>\n",
              "    </tr>\n",
              "    <tr>\n",
              "      <th>9</th>\n",
              "      <td>56</td>\n",
              "      <td>78</td>\n",
              "      <td>68</td>\n",
              "      <td>88</td>\n",
              "      <td>63</td>\n",
              "      <td>23</td>\n",
              "      <td>44</td>\n",
              "      <td>99</td>\n",
              "      <td>98</td>\n",
              "      <td>34</td>\n",
              "    </tr>\n",
              "  </tbody>\n",
              "</table>\n",
              "</div>\n",
              "    <div class=\"colab-df-buttons\">\n",
              "\n",
              "  <div class=\"colab-df-container\">\n",
              "    <button class=\"colab-df-convert\" onclick=\"convertToInteractive('df-6b828b0f-bf77-418a-8fd9-c23d3a87aa62')\"\n",
              "            title=\"Convert this dataframe to an interactive table.\"\n",
              "            style=\"display:none;\">\n",
              "\n",
              "  <svg xmlns=\"http://www.w3.org/2000/svg\" height=\"24px\" viewBox=\"0 -960 960 960\">\n",
              "    <path d=\"M120-120v-720h720v720H120Zm60-500h600v-160H180v160Zm220 220h160v-160H400v160Zm0 220h160v-160H400v160ZM180-400h160v-160H180v160Zm440 0h160v-160H620v160ZM180-180h160v-160H180v160Zm440 0h160v-160H620v160Z\"/>\n",
              "  </svg>\n",
              "    </button>\n",
              "\n",
              "  <style>\n",
              "    .colab-df-container {\n",
              "      display:flex;\n",
              "      gap: 12px;\n",
              "    }\n",
              "\n",
              "    .colab-df-convert {\n",
              "      background-color: #E8F0FE;\n",
              "      border: none;\n",
              "      border-radius: 50%;\n",
              "      cursor: pointer;\n",
              "      display: none;\n",
              "      fill: #1967D2;\n",
              "      height: 32px;\n",
              "      padding: 0 0 0 0;\n",
              "      width: 32px;\n",
              "    }\n",
              "\n",
              "    .colab-df-convert:hover {\n",
              "      background-color: #E2EBFA;\n",
              "      box-shadow: 0px 1px 2px rgba(60, 64, 67, 0.3), 0px 1px 3px 1px rgba(60, 64, 67, 0.15);\n",
              "      fill: #174EA6;\n",
              "    }\n",
              "\n",
              "    .colab-df-buttons div {\n",
              "      margin-bottom: 4px;\n",
              "    }\n",
              "\n",
              "    [theme=dark] .colab-df-convert {\n",
              "      background-color: #3B4455;\n",
              "      fill: #D2E3FC;\n",
              "    }\n",
              "\n",
              "    [theme=dark] .colab-df-convert:hover {\n",
              "      background-color: #434B5C;\n",
              "      box-shadow: 0px 1px 3px 1px rgba(0, 0, 0, 0.15);\n",
              "      filter: drop-shadow(0px 1px 2px rgba(0, 0, 0, 0.3));\n",
              "      fill: #FFFFFF;\n",
              "    }\n",
              "  </style>\n",
              "\n",
              "    <script>\n",
              "      const buttonEl =\n",
              "        document.querySelector('#df-6b828b0f-bf77-418a-8fd9-c23d3a87aa62 button.colab-df-convert');\n",
              "      buttonEl.style.display =\n",
              "        google.colab.kernel.accessAllowed ? 'block' : 'none';\n",
              "\n",
              "      async function convertToInteractive(key) {\n",
              "        const element = document.querySelector('#df-6b828b0f-bf77-418a-8fd9-c23d3a87aa62');\n",
              "        const dataTable =\n",
              "          await google.colab.kernel.invokeFunction('convertToInteractive',\n",
              "                                                    [key], {});\n",
              "        if (!dataTable) return;\n",
              "\n",
              "        const docLinkHtml = 'Like what you see? Visit the ' +\n",
              "          '<a target=\"_blank\" href=https://colab.research.google.com/notebooks/data_table.ipynb>data table notebook</a>'\n",
              "          + ' to learn more about interactive tables.';\n",
              "        element.innerHTML = '';\n",
              "        dataTable['output_type'] = 'display_data';\n",
              "        await google.colab.output.renderOutput(dataTable, element);\n",
              "        const docLink = document.createElement('div');\n",
              "        docLink.innerHTML = docLinkHtml;\n",
              "        element.appendChild(docLink);\n",
              "      }\n",
              "    </script>\n",
              "  </div>\n",
              "\n",
              "\n",
              "<div id=\"df-8d9afd75-1742-4125-9e4b-1a704310a236\">\n",
              "  <button class=\"colab-df-quickchart\" onclick=\"quickchart('df-8d9afd75-1742-4125-9e4b-1a704310a236')\"\n",
              "            title=\"Suggest charts.\"\n",
              "            style=\"display:none;\">\n",
              "\n",
              "<svg xmlns=\"http://www.w3.org/2000/svg\" height=\"24px\"viewBox=\"0 0 24 24\"\n",
              "     width=\"24px\">\n",
              "    <g>\n",
              "        <path d=\"M19 3H5c-1.1 0-2 .9-2 2v14c0 1.1.9 2 2 2h14c1.1 0 2-.9 2-2V5c0-1.1-.9-2-2-2zM9 17H7v-7h2v7zm4 0h-2V7h2v10zm4 0h-2v-4h2v4z\"/>\n",
              "    </g>\n",
              "</svg>\n",
              "  </button>\n",
              "\n",
              "<style>\n",
              "  .colab-df-quickchart {\n",
              "    background-color: #E8F0FE;\n",
              "    border: none;\n",
              "    border-radius: 50%;\n",
              "    cursor: pointer;\n",
              "    display: none;\n",
              "    fill: #1967D2;\n",
              "    height: 32px;\n",
              "    padding: 0 0 0 0;\n",
              "    width: 32px;\n",
              "  }\n",
              "\n",
              "  .colab-df-quickchart:hover {\n",
              "    background-color: #E2EBFA;\n",
              "    box-shadow: 0px 1px 2px rgba(60, 64, 67, 0.3), 0px 1px 3px 1px rgba(60, 64, 67, 0.15);\n",
              "    fill: #174EA6;\n",
              "  }\n",
              "\n",
              "  [theme=dark] .colab-df-quickchart {\n",
              "    background-color: #3B4455;\n",
              "    fill: #D2E3FC;\n",
              "  }\n",
              "\n",
              "  [theme=dark] .colab-df-quickchart:hover {\n",
              "    background-color: #434B5C;\n",
              "    box-shadow: 0px 1px 3px 1px rgba(0, 0, 0, 0.15);\n",
              "    filter: drop-shadow(0px 1px 2px rgba(0, 0, 0, 0.3));\n",
              "    fill: #FFFFFF;\n",
              "  }\n",
              "</style>\n",
              "\n",
              "  <script>\n",
              "    async function quickchart(key) {\n",
              "      const charts = await google.colab.kernel.invokeFunction(\n",
              "          'suggestCharts', [key], {});\n",
              "    }\n",
              "    (() => {\n",
              "      let quickchartButtonEl =\n",
              "        document.querySelector('#df-8d9afd75-1742-4125-9e4b-1a704310a236 button');\n",
              "      quickchartButtonEl.style.display =\n",
              "        google.colab.kernel.accessAllowed ? 'block' : 'none';\n",
              "    })();\n",
              "  </script>\n",
              "</div>\n",
              "    </div>\n",
              "  </div>\n"
            ]
          },
          "metadata": {},
          "execution_count": 134
        }
      ]
    }
  ]
}