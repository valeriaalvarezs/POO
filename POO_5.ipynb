{
  "nbformat": 4,
  "nbformat_minor": 0,
  "metadata": {
    "colab": {
      "provenance": []
    },
    "kernelspec": {
      "name": "python3",
      "display_name": "Python 3"
    },
    "language_info": {
      "name": "python"
    }
  },
  "cells": [
    {
      "cell_type": "markdown",
      "source": [
        "# Clases, herencias y polimorfismos\n"
      ],
      "metadata": {
        "id": "u9ILlHtWkgc8"
      }
    },
    {
      "cell_type": "markdown",
      "source": [
        "Definiciones\n",
        "\n",
        "Globales en el notebook:\n",
        "\n",
        "def suma(arg1,arg2,...):\n",
        "\n",
        "Operaciones sobre los argumentos return x\n",
        "{ x= arg1+arg2*arg3}"
      ],
      "metadata": {
        "id": "yD1bZFcHnqa6"
      }
    },
    {
      "cell_type": "code",
      "source": [
        "# Vamos a crear una definición (que es una funcion integrada en Python)\n",
        "\n",
        "def valeria (a,b,c):\n",
        "  x=a+b*c\n",
        "  return x"
      ],
      "metadata": {
        "id": "f5kcy5gPnzNY"
      },
      "execution_count": null,
      "outputs": []
    },
    {
      "cell_type": "code",
      "source": [
        "valeria(1,2,3)"
      ],
      "metadata": {
        "colab": {
          "base_uri": "https://localhost:8080/"
        },
        "id": "wRUX42cUpYr8",
        "outputId": "0e0defaa-d387-40e2-b1f4-e2a9a01d3a7d"
      },
      "execution_count": null,
      "outputs": [
        {
          "output_type": "execute_result",
          "data": {
            "text/plain": [
              "7"
            ]
          },
          "metadata": {},
          "execution_count": 5
        }
      ]
    },
    {
      "cell_type": "code",
      "source": [
        "# vamos a crear una definicion que calcule la inversa de una matriz\n",
        "import numpy as np\n",
        "\n",
        "def inversa_matriz(M):\n",
        "  if matrix.shape[0]!=matrix.shape[1]:\n",
        "    letrero=\"input matrix must be square\"\n",
        "    return letrero\n",
        "  x=np.linalg.inv(M)\n",
        "  return x"
      ],
      "metadata": {
        "id": "_US6bSUhpbQI"
      },
      "execution_count": null,
      "outputs": []
    },
    {
      "cell_type": "code",
      "source": [
        "matrix=np.random.randint(1,20,size=(3,3))"
      ],
      "metadata": {
        "id": "GDyh3yXApoF4"
      },
      "execution_count": null,
      "outputs": []
    },
    {
      "cell_type": "code",
      "source": [
        "inversa_matriz(matrix)"
      ],
      "metadata": {
        "colab": {
          "base_uri": "https://localhost:8080/"
        },
        "id": "kDsi4yvkzGOE",
        "outputId": "01993d44-a10a-4cbc-8c4c-bc6186befe2a"
      },
      "execution_count": null,
      "outputs": [
        {
          "output_type": "execute_result",
          "data": {
            "text/plain": [
              "array([[ 0.15217391,  0.06521739, -0.10869565],\n",
              "       [-0.79347826,  0.44565217, -0.07608696],\n",
              "       [ 0.38043478, -0.33695652,  0.22826087]])"
            ]
          },
          "metadata": {},
          "execution_count": 44
        }
      ]
    },
    {
      "cell_type": "code",
      "source": [],
      "metadata": {
        "id": "6LAS5ur7t6ZX"
      },
      "execution_count": null,
      "outputs": []
    }
  ]
}