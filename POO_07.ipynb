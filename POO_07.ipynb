{
  "nbformat": 4,
  "nbformat_minor": 0,
  "metadata": {
    "colab": {
      "provenance": []
    },
    "kernelspec": {
      "name": "python3",
      "display_name": "Python 3"
    },
    "language_info": {
      "name": "python"
    }
  },
  "cells": [
    {
      "cell_type": "markdown",
      "source": [
        "## Condicionales: if, elif, else"
      ],
      "metadata": {
        "id": "sKzU3koDcKm7"
      }
    },
    {
      "cell_type": "code",
      "execution_count": null,
      "metadata": {
        "colab": {
          "base_uri": "https://localhost:8080/"
        },
        "id": "iswUOdZ-cICN",
        "outputId": "0ca87134-b9f7-48ee-b9bf-e31ff7bed0cf"
      },
      "outputs": [
        {
          "output_type": "stream",
          "name": "stdout",
          "text": [
            "La letra no es A, ni B, ni C\n"
          ]
        }
      ],
      "source": [
        "# defines el valor de una letra y te imprime si la letra es a,b,c\n",
        "letra= \"P\"\n",
        "\n",
        "if letra == \"B\":\n",
        "  print(\"La letra es B\")\n",
        "elif letra == \"C\":\n",
        "  print(\"La letra es C\")\n",
        "elif letra == \"A\":\n",
        "  print(\"La letra es A\")\n",
        "else:\n",
        "  print(\"La letra no es A, ni B, ni C\")"
      ]
    },
    {
      "cell_type": "markdown",
      "source": [
        "Ejemplo 2:"
      ],
      "metadata": {
        "id": "7Wyqj1jUcKii"
      }
    },
    {
      "cell_type": "code",
      "source": [
        "#esta funcion te pide escribir un numero, y te dice si es multiplo o no de dos\n",
        "numero=int(input(\"Escribe un número \"))\n",
        "\n",
        "if numero %2 == 0 and numero % 4 != 0:\n",
        "  print(f\"{numero} es multiplo de 4 y 2\") # la f es para guardar el numero como un string\n",
        "elif numero % 4 ==0:\n",
        "  print(f\"{numero} es multiplo de 4 y 2\")\n",
        "else:\n",
        "  print(f\"{numero} no es multiplo de 2\")\n"
      ],
      "metadata": {
        "colab": {
          "base_uri": "https://localhost:8080/"
        },
        "id": "gGTqO6HMeLL6",
        "outputId": "015e2d6b-a3fa-4ead-e4e4-3ad1a5d72cd8"
      },
      "execution_count": null,
      "outputs": [
        {
          "output_type": "stream",
          "name": "stdout",
          "text": [
            "Escribe un número 3\n",
            "3 no es multiplo de 2\n"
          ]
        }
      ]
    },
    {
      "cell_type": "markdown",
      "source": [
        "Ejemplo 3"
      ],
      "metadata": {
        "id": "7gi3pANMgyGJ"
      }
    },
    {
      "cell_type": "code",
      "source": [
        "# hacemos una funcion de if y else para preguntar el numero de hermanos, si la respuesta es mayor a 1 te devuelve plural, si la respuesta es igual a 1 te devuelve singular y si es 0 que no tienes\n",
        "\n",
        "hermanos=int(input(\"Cuantos hermanos tienes \"))\n",
        "\n",
        "if hermanos >1:\n",
        "  print(f\"Tienes {hermanos} hermanos\")\n",
        "elif hermanos ==1:\n",
        "  print(\"Tienes un hermano\")\n",
        "else:\n",
        "  print(\"No tienes hermanos\")"
      ],
      "metadata": {
        "colab": {
          "base_uri": "https://localhost:8080/"
        },
        "id": "6rO6YzFPgzik",
        "outputId": "94b8d1c7-1e4f-4bb2-9d78-7e54895b227e"
      },
      "execution_count": null,
      "outputs": [
        {
          "output_type": "stream",
          "name": "stdout",
          "text": [
            "Cuantos hermanos tienes 0\n",
            "No tienes hermanos\n"
          ]
        }
      ]
    },
    {
      "cell_type": "markdown",
      "source": [
        "## Clases y polimorfismos"
      ],
      "metadata": {
        "id": "1lFoncCik6FY"
      }
    },
    {
      "cell_type": "code",
      "source": [
        "#hacemos las clases definiendo el return de cada animal y su sonido con la fn self\n",
        "class mascota:\n",
        "  def hable(self):\n",
        "    return NotImplementedError\n",
        "class perro(mascota):\n",
        "  def hable(self):\n",
        "    return \"woof\"\n",
        "class gato(mascota):\n",
        "  def hable(self):\n",
        "    return \"miau\"\n",
        "class vaca(mascota):\n",
        "  def hable(self):\n",
        "    return \"mu\"\n",
        "class cerdo(mascota):\n",
        "  def hable(self):\n",
        "    return \"oink\"\n",
        "class pollo(mascota):\n",
        "  def hable(self):\n",
        "    return \"piu piu\""
      ],
      "metadata": {
        "id": "Oq2bkL7Kk-o3"
      },
      "execution_count": null,
      "outputs": []
    },
    {
      "cell_type": "code",
      "source": [
        "# vamos a crear una lista de mascotas\n",
        "mascotas =[perro(),gato(),vaca(),cerdo(),pollo()] # generador de objetos"
      ],
      "metadata": {
        "id": "oAf-8uTQoNGP"
      },
      "execution_count": null,
      "outputs": []
    },
    {
      "cell_type": "code",
      "source": [
        "mascotas"
      ],
      "metadata": {
        "colab": {
          "base_uri": "https://localhost:8080/"
        },
        "id": "fduqEmhgol6f",
        "outputId": "10953a8e-7f28-48c9-910b-b9563886fd0f"
      },
      "execution_count": null,
      "outputs": [
        {
          "output_type": "execute_result",
          "data": {
            "text/plain": [
              "[<__main__.perro at 0x7a7273f42d40>,\n",
              " <__main__.gato at 0x7a7273f425f0>,\n",
              " <__main__.vaca at 0x7a7273f43e80>,\n",
              " <__main__.cerdo at 0x7a7273f408b0>,\n",
              " <__main__.pollo at 0x7a7273f43d00>]"
            ]
          },
          "metadata": {},
          "execution_count": 69
        }
      ]
    },
    {
      "cell_type": "code",
      "source": [
        "# se pide que se imprima los sonidos de las mascotas establecidos anteriormente\n",
        "for mascota in mascotas:\n",
        "  print(mascota.hable())"
      ],
      "metadata": {
        "colab": {
          "base_uri": "https://localhost:8080/"
        },
        "id": "FO6UNKNwpQd6",
        "outputId": "cb995f01-53ad-4ce5-b52e-b57ea2317a57"
      },
      "execution_count": null,
      "outputs": [
        {
          "output_type": "stream",
          "name": "stdout",
          "text": [
            "woof\n",
            "miau\n",
            "mu\n",
            "oink\n",
            "piu piu\n"
          ]
        }
      ]
    },
    {
      "cell_type": "code",
      "source": [
        "# con la funcion def __init__ se escribe una clase y los nombres de cada tipo de valores\n",
        "class persona:\n",
        "  def __init__(self,nombre,edad):\n",
        "    self.nombre= nombre # con self.nombre se define que se dara el nombre\n",
        "    self.edad= edad #con self.edad se define que se dara la edad\n"
      ],
      "metadata": {
        "id": "Q8Gc8XmCrKvU"
      },
      "execution_count": null,
      "outputs": []
    },
    {
      "cell_type": "code",
      "source": [
        "valeria= persona(\"Valeria\",21)"
      ],
      "metadata": {
        "id": "rDpQ_m5XraRY"
      },
      "execution_count": null,
      "outputs": []
    },
    {
      "cell_type": "code",
      "source": [
        "valeria.nombre"
      ],
      "metadata": {
        "colab": {
          "base_uri": "https://localhost:8080/",
          "height": 35
        },
        "id": "q9Jqr_mcrl4b",
        "outputId": "1a9e7ae1-b1f8-4e18-9fb0-d7b506c70143"
      },
      "execution_count": null,
      "outputs": [
        {
          "output_type": "execute_result",
          "data": {
            "text/plain": [
              "'Valeria'"
            ],
            "application/vnd.google.colaboratory.intrinsic+json": {
              "type": "string"
            }
          },
          "metadata": {},
          "execution_count": 79
        }
      ]
    },
    {
      "cell_type": "code",
      "source": [
        "valeria.edad"
      ],
      "metadata": {
        "colab": {
          "base_uri": "https://localhost:8080/"
        },
        "id": "e8DJcEMGrvl1",
        "outputId": "d2e29ca6-b069-4b0d-9989-f12d3f18ca03"
      },
      "execution_count": null,
      "outputs": [
        {
          "output_type": "execute_result",
          "data": {
            "text/plain": [
              "21"
            ]
          },
          "metadata": {},
          "execution_count": 80
        }
      ]
    }
  ]
}