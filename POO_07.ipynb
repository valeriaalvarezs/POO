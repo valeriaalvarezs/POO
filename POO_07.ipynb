{
  "nbformat": 4,
  "nbformat_minor": 0,
  "metadata": {
    "colab": {
      "provenance": []
    },
    "kernelspec": {
      "name": "python3",
      "display_name": "Python 3"
    },
    "language_info": {
      "name": "python"
    }
  },
  "cells": [
    {
      "cell_type": "markdown",
      "source": [
        "## Condicionales: if, elif, else"
      ],
      "metadata": {
        "id": "sKzU3koDcKm7"
      }
    },
    {
      "cell_type": "code",
      "execution_count": 1,
      "metadata": {
        "colab": {
          "base_uri": "https://localhost:8080/"
        },
        "id": "iswUOdZ-cICN",
        "outputId": "9954cb54-0798-4942-9914-8b9a51812b02"
      },
      "outputs": [
        {
          "output_type": "stream",
          "name": "stdout",
          "text": [
            "La letra no es A, ni B, ni C\n"
          ]
        }
      ],
      "source": [
        "# defines el valor de una letra y te imprime si la letra es a,b,c\n",
        "letra= \"P\"\n",
        "\n",
        "if letra == \"B\":\n",
        "  print(\"La letra es B\")\n",
        "elif letra == \"C\":\n",
        "  print(\"La letra es C\")\n",
        "elif letra == \"A\":\n",
        "  print(\"La letra es A\")\n",
        "else:\n",
        "  print(\"La letra no es A, ni B, ni C\")"
      ]
    },
    {
      "cell_type": "markdown",
      "source": [
        "Ejemplo 2:"
      ],
      "metadata": {
        "id": "7Wyqj1jUcKii"
      }
    },
    {
      "cell_type": "code",
      "source": [
        "#esta funcion te pide escribir un numero, y te dice si es multiplo o no de dos\n",
        "numero=int(input(\"Escribe un número \"))\n",
        "\n",
        "if numero %2 == 0 and numero % 4 != 0:\n",
        "  print(f\"{numero} es multiplo de 4 y 2\") # la f es para guardar el numero como un string\n",
        "elif numero % 4 ==0:\n",
        "  print(f\"{numero} es multiplo de 4 y 2\")\n",
        "else:\n",
        "  print(f\"{numero} no es multiplo de 2\")\n"
      ],
      "metadata": {
        "colab": {
          "base_uri": "https://localhost:8080/"
        },
        "id": "gGTqO6HMeLL6",
        "outputId": "fb199f2b-44c3-4b09-b66f-ad23e1aad178"
      },
      "execution_count": 2,
      "outputs": [
        {
          "output_type": "stream",
          "name": "stdout",
          "text": [
            "Escribe un número 3\n",
            "3 no es multiplo de 2\n"
          ]
        }
      ]
    },
    {
      "cell_type": "markdown",
      "source": [
        "Ejemplo 3"
      ],
      "metadata": {
        "id": "7gi3pANMgyGJ"
      }
    },
    {
      "cell_type": "code",
      "source": [
        "# hacemos una funcion de if y else para preguntar el numero de hermanos, si la respuesta es mayor a 1 te devuelve plural, si la respuesta es igual a 1 te devuelve singular y si es 0 que no tienes\n",
        "\n",
        "hermanos=int(input(\"Cuantos hermanos tienes \"))\n",
        "\n",
        "if hermanos >1:\n",
        "  print(f\"Tienes {hermanos} hermanos\")\n",
        "elif hermanos ==1:\n",
        "  print(\"Tienes un hermano\")\n",
        "else:\n",
        "  print(\"No tienes hermanos\")"
      ],
      "metadata": {
        "colab": {
          "base_uri": "https://localhost:8080/"
        },
        "id": "6rO6YzFPgzik",
        "outputId": "294c86be-138b-420a-c571-8a08fd65768d"
      },
      "execution_count": 3,
      "outputs": [
        {
          "output_type": "stream",
          "name": "stdout",
          "text": [
            "Cuantos hermanos tienes 3\n",
            "Tienes 3 hermanos\n"
          ]
        }
      ]
    },
    {
      "cell_type": "markdown",
      "source": [
        "## Clases y polimorfismos"
      ],
      "metadata": {
        "id": "1lFoncCik6FY"
      }
    },
    {
      "cell_type": "code",
      "source": [
        "#hacemos las clases definiendo el return de cada animal y su sonido con la fn self\n",
        "class mascota:\n",
        "  def hable(self):\n",
        "    return NotImplementedError\n",
        "class perro(mascota):\n",
        "  def hable(self):\n",
        "    return \"woof\"\n",
        "class gato(mascota):\n",
        "  def hable(self):\n",
        "    return \"miau\"\n",
        "class vaca(mascota):\n",
        "  def hable(self):\n",
        "    return \"mu\"\n",
        "class cerdo(mascota):\n",
        "  def hable(self):\n",
        "    return \"oink\"\n",
        "class pollo(mascota):\n",
        "  def hable(self):\n",
        "    return \"piu piu\""
      ],
      "metadata": {
        "id": "Oq2bkL7Kk-o3"
      },
      "execution_count": 4,
      "outputs": []
    },
    {
      "cell_type": "code",
      "source": [
        "# vamos a crear una lista de mascotas\n",
        "mascotas =[perro(),gato(),vaca(),cerdo(),pollo()] # generador de objetos"
      ],
      "metadata": {
        "id": "oAf-8uTQoNGP"
      },
      "execution_count": 5,
      "outputs": []
    },
    {
      "cell_type": "code",
      "source": [
        "mascotas"
      ],
      "metadata": {
        "colab": {
          "base_uri": "https://localhost:8080/"
        },
        "id": "fduqEmhgol6f",
        "outputId": "faf525e1-5dd7-4616-d41f-86b8a1c41239"
      },
      "execution_count": 6,
      "outputs": [
        {
          "output_type": "execute_result",
          "data": {
            "text/plain": [
              "[<__main__.perro at 0x7d0d49701960>,\n",
              " <__main__.gato at 0x7d0d49701990>,\n",
              " <__main__.vaca at 0x7d0d49701840>,\n",
              " <__main__.cerdo at 0x7d0d497018d0>,\n",
              " <__main__.pollo at 0x7d0d497018a0>]"
            ]
          },
          "metadata": {},
          "execution_count": 6
        }
      ]
    },
    {
      "cell_type": "code",
      "source": [
        "# se pide que se imprima los sonidos de las mascotas establecidos anteriormente\n",
        "for mascota in mascotas:\n",
        "  print(mascota.hable())"
      ],
      "metadata": {
        "colab": {
          "base_uri": "https://localhost:8080/"
        },
        "id": "FO6UNKNwpQd6",
        "outputId": "0dcf8378-ddf2-451e-e921-b17813089aa9"
      },
      "execution_count": 7,
      "outputs": [
        {
          "output_type": "stream",
          "name": "stdout",
          "text": [
            "woof\n",
            "miau\n",
            "mu\n",
            "oink\n",
            "piu piu\n"
          ]
        }
      ]
    },
    {
      "cell_type": "code",
      "source": [
        "# con la funcion def __init__ se escribe una clase y los nombres de cada tipo de valores\n",
        "class persona:\n",
        "  def __init__(self,nombre,edad):\n",
        "    self.nombre= nombre # con self.nombre se define que se dara el nombre\n",
        "    self.edad= edad #con self.edad se define que se dara la edad\n"
      ],
      "metadata": {
        "id": "Q8Gc8XmCrKvU"
      },
      "execution_count": 8,
      "outputs": []
    },
    {
      "cell_type": "code",
      "source": [
        "valeria= persona(\"Valeria\",21)"
      ],
      "metadata": {
        "id": "rDpQ_m5XraRY"
      },
      "execution_count": 9,
      "outputs": []
    },
    {
      "cell_type": "code",
      "source": [
        "valeria.nombre"
      ],
      "metadata": {
        "colab": {
          "base_uri": "https://localhost:8080/",
          "height": 35
        },
        "id": "q9Jqr_mcrl4b",
        "outputId": "a0dd33a6-7654-4a8f-ab26-fdb1637870b1"
      },
      "execution_count": 10,
      "outputs": [
        {
          "output_type": "execute_result",
          "data": {
            "text/plain": [
              "'Valeria'"
            ],
            "application/vnd.google.colaboratory.intrinsic+json": {
              "type": "string"
            }
          },
          "metadata": {},
          "execution_count": 10
        }
      ]
    },
    {
      "cell_type": "code",
      "source": [
        "valeria.edad"
      ],
      "metadata": {
        "colab": {
          "base_uri": "https://localhost:8080/"
        },
        "id": "e8DJcEMGrvl1",
        "outputId": "1e5053b1-8a5a-430a-a626-c2597c815ff6"
      },
      "execution_count": 11,
      "outputs": [
        {
          "output_type": "execute_result",
          "data": {
            "text/plain": [
              "21"
            ]
          },
          "metadata": {},
          "execution_count": 11
        }
      ]
    },
    {
      "cell_type": "code",
      "source": [
        "class Animal(): # objeto al que se le asignaran atributos\n",
        "  def __init__(self): #init se refiere a inicializador, se usa con dos guiones. Entre parentesis (self) autoasignacion\n",
        "    print(\"Animal class creada\")\n",
        "\n",
        "  def guess_who(self):\n",
        "    print(\"Soy un animalito\")\n",
        "\n",
        "  def sleep(self):\n",
        "    print(\"estoy durmiendo\")"
      ],
      "metadata": {
        "id": "0dnA8ltkq0SN"
      },
      "execution_count": 17,
      "outputs": []
    },
    {
      "cell_type": "code",
      "source": [
        "my_animal=Animal()"
      ],
      "metadata": {
        "colab": {
          "base_uri": "https://localhost:8080/"
        },
        "id": "yPkSJx9FsJSr",
        "outputId": "69461262-e6b9-46d3-b5bc-93f4d38f357b"
      },
      "execution_count": 18,
      "outputs": [
        {
          "output_type": "stream",
          "name": "stdout",
          "text": [
            "Animal class creada\n"
          ]
        }
      ]
    },
    {
      "cell_type": "code",
      "source": [
        "my_animal.sleep()"
      ],
      "metadata": {
        "colab": {
          "base_uri": "https://localhost:8080/"
        },
        "id": "BgcV2Yl8toCX",
        "outputId": "4de3e7ba-d8ed-49c8-c109-a359c3a1ea16"
      },
      "execution_count": 19,
      "outputs": [
        {
          "output_type": "stream",
          "name": "stdout",
          "text": [
            "estoy durmiendo\n"
          ]
        }
      ]
    },
    {
      "cell_type": "code",
      "source": [
        "class Cat(Animal):# esta nueva clase depende y se obtiene a partir de la clase anterior (clase maestra)\n",
        "  def __init__(self):\n",
        "    Animal.__init__(self) # se inicializa todo de la clase maestra dentro de la subordinada\n",
        "    print(\"Cat class creada\")\n",
        "\n",
        "  def guess_who(self):\n",
        "    print(\"soy un gatito\")\n",
        "\n",
        "  def meow(self):\n",
        "    print(\"MEOW!\")"
      ],
      "metadata": {
        "id": "Ua4w0j94vEtW"
      },
      "execution_count": 21,
      "outputs": []
    },
    {
      "cell_type": "code",
      "source": [
        "my_cat=Cat()"
      ],
      "metadata": {
        "colab": {
          "base_uri": "https://localhost:8080/"
        },
        "id": "EJ_j0qfRw3T4",
        "outputId": "88d9c211-962c-4079-d331-fa38afd51dd6"
      },
      "execution_count": 22,
      "outputs": [
        {
          "output_type": "stream",
          "name": "stdout",
          "text": [
            "Animal class creada\n",
            "Cat class creada\n"
          ]
        }
      ]
    },
    {
      "cell_type": "code",
      "source": [
        "my_cat.meow()"
      ],
      "metadata": {
        "colab": {
          "base_uri": "https://localhost:8080/"
        },
        "id": "wrOrUTIHw6WB",
        "outputId": "9c5ba3a9-2b61-4602-f550-d0db6e819807"
      },
      "execution_count": 23,
      "outputs": [
        {
          "output_type": "stream",
          "name": "stdout",
          "text": [
            "MEOW!\n"
          ]
        }
      ]
    },
    {
      "cell_type": "markdown",
      "source": [
        "## Polymorphism"
      ],
      "metadata": {
        "id": "4zB-s0onw-EX"
      }
    },
    {
      "cell_type": "code",
      "source": [
        "class Doggy():\n",
        "  def __init__(self,name,raza):\n",
        "    self.name=name\n",
        "    self.raza=raza\n",
        "\n",
        "  def speak(self):\n",
        "    return self.name + \" dice WOOF\"\n"
      ],
      "metadata": {
        "id": "7j0ga9doxABk"
      },
      "execution_count": 39,
      "outputs": []
    },
    {
      "cell_type": "code",
      "source": [
        "class Catty():\n",
        "  def __init__(self,name,raza):\n",
        "    self.name=name\n",
        "    self.raza=raza\n",
        "\n",
        "  def speak(self):\n",
        "    return self.name + \" dice MEOW\"\n"
      ],
      "metadata": {
        "id": "PZfXRttuyhj8"
      },
      "execution_count": 40,
      "outputs": []
    },
    {
      "cell_type": "code",
      "source": [
        "my_dog=Doggy(\"Buzz\",\"dalmata\")\n",
        "my_cat=Catty(\"Tom\",\"gato\")"
      ],
      "metadata": {
        "id": "O2vJij_4zO-m"
      },
      "execution_count": 41,
      "outputs": []
    },
    {
      "cell_type": "code",
      "source": [
        "my_dog.speak()"
      ],
      "metadata": {
        "colab": {
          "base_uri": "https://localhost:8080/",
          "height": 35
        },
        "id": "PqrB2gv4zJfF",
        "outputId": "66ca49f7-f926-4113-80ab-2ed02be93f30"
      },
      "execution_count": 42,
      "outputs": [
        {
          "output_type": "execute_result",
          "data": {
            "text/plain": [
              "'Buzz dice WOOF'"
            ],
            "application/vnd.google.colaboratory.intrinsic+json": {
              "type": "string"
            }
          },
          "metadata": {},
          "execution_count": 42
        }
      ]
    },
    {
      "cell_type": "code",
      "source": [
        "my_cat.speak()"
      ],
      "metadata": {
        "colab": {
          "base_uri": "https://localhost:8080/",
          "height": 35
        },
        "id": "_qQm8o7a0B2B",
        "outputId": "981b1fa5-c2ef-49ae-c9f4-67abad8f832a"
      },
      "execution_count": 43,
      "outputs": [
        {
          "output_type": "execute_result",
          "data": {
            "text/plain": [
              "'Tom dice MEOW'"
            ],
            "application/vnd.google.colaboratory.intrinsic+json": {
              "type": "string"
            }
          },
          "metadata": {},
          "execution_count": 43
        }
      ]
    },
    {
      "cell_type": "code",
      "source": [
        "my_dog.raza"
      ],
      "metadata": {
        "colab": {
          "base_uri": "https://localhost:8080/",
          "height": 35
        },
        "id": "0yQElJIn12HB",
        "outputId": "8e427250-99d6-4d0d-f823-ff34748ad17a"
      },
      "execution_count": 44,
      "outputs": [
        {
          "output_type": "execute_result",
          "data": {
            "text/plain": [
              "'dalmata'"
            ],
            "application/vnd.google.colaboratory.intrinsic+json": {
              "type": "string"
            }
          },
          "metadata": {},
          "execution_count": 44
        }
      ]
    }
  ]
}