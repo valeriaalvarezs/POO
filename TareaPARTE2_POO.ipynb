{
  "nbformat": 4,
  "nbformat_minor": 0,
  "metadata": {
    "colab": {
      "provenance": []
    },
    "kernelspec": {
      "name": "python3",
      "display_name": "Python 3"
    },
    "language_info": {
      "name": "python"
    }
  },
  "cells": [
    {
      "cell_type": "markdown",
      "source": [
        "## Valeria Álvarez, Paula Hernández, Regina Trigo, Gisela Villalobos"
      ],
      "metadata": {
        "id": "8imQjHbC2Eak"
      }
    },
    {
      "cell_type": "markdown",
      "source": [
        "## Tarea 1. Segunda parte."
      ],
      "metadata": {
        "id": "FZVEcQY_n4QG"
      }
    },
    {
      "cell_type": "markdown",
      "source": [
        "## Parte A\n",
        "\n",
        "1.   En Moodle, se encuentra un archivo llamada `daily_returns.csv`. Monta el archivo en tu Drive y da lectura en un panel de datos."
      ],
      "metadata": {
        "id": "HHLP0ZpvonNY"
      }
    },
    {
      "cell_type": "code",
      "source": [
        "import pandas as pd"
      ],
      "metadata": {
        "id": "980X5u3rU5oE"
      },
      "execution_count": null,
      "outputs": []
    },
    {
      "cell_type": "code",
      "source": [
        "from google.colab import drive\n",
        "drive.mount(\"/content/drive\")\n",
        "d=pd.read_csv(\"/content/drive/MyDrive/POODB/daily_returns.csv\")\n",
        "d"
      ],
      "metadata": {
        "colab": {
          "base_uri": "https://localhost:8080/",
          "height": 441
        },
        "id": "Ea1U7Gn4NHzP",
        "outputId": "6a2bb9e1-605b-4974-8ad6-d07db3285f27"
      },
      "execution_count": null,
      "outputs": [
        {
          "output_type": "stream",
          "name": "stdout",
          "text": [
            "Drive already mounted at /content/drive; to attempt to forcibly remount, call drive.mount(\"/content/drive\", force_remount=True).\n"
          ]
        },
        {
          "output_type": "execute_result",
          "data": {
            "text/plain": [
              "      Unnamed: 0      AAPL       JPM       WMT       TGT      MSFT      AMGN\n",
              "0     2000-01-03  0.088754 -0.061947 -0.033454 -0.018723 -0.001606  0.047867\n",
              "1     2000-01-04 -0.084310 -0.027444 -0.037418 -0.043365 -0.033780 -0.076465\n",
              "2     2000-01-05  0.014634 -0.006173 -0.020408 -0.022665  0.010544  0.034409\n",
              "3     2000-01-06 -0.086538  0.014197  0.010913 -0.047310 -0.033498  0.016632\n",
              "4     2000-01-07  0.047368  0.018373  0.075564  0.051607  0.013068  0.112474\n",
              "...          ...       ...       ...       ...       ...       ...       ...\n",
              "4687  2018-08-20 -0.009744 -0.001307 -0.018906  0.003372 -0.006600  0.000709\n",
              "4688  2018-08-21 -0.001949  0.006107  0.000833 -0.000600 -0.008328 -0.001265\n",
              "4689  2018-08-22  0.000047 -0.003035 -0.004267  0.032064  0.010191  0.002686\n",
              "4690  2018-08-23  0.002046 -0.002087 -0.005122  0.008960  0.004670 -0.006268\n",
              "4691  2018-08-24  0.003109 -0.000436 -0.002417  0.006920  0.007810  0.000203\n",
              "\n",
              "[4692 rows x 7 columns]"
            ],
            "text/html": [
              "\n",
              "  <div id=\"df-00e22a5e-2838-4633-8cfd-568df47e9895\" class=\"colab-df-container\">\n",
              "    <div>\n",
              "<style scoped>\n",
              "    .dataframe tbody tr th:only-of-type {\n",
              "        vertical-align: middle;\n",
              "    }\n",
              "\n",
              "    .dataframe tbody tr th {\n",
              "        vertical-align: top;\n",
              "    }\n",
              "\n",
              "    .dataframe thead th {\n",
              "        text-align: right;\n",
              "    }\n",
              "</style>\n",
              "<table border=\"1\" class=\"dataframe\">\n",
              "  <thead>\n",
              "    <tr style=\"text-align: right;\">\n",
              "      <th></th>\n",
              "      <th>Unnamed: 0</th>\n",
              "      <th>AAPL</th>\n",
              "      <th>JPM</th>\n",
              "      <th>WMT</th>\n",
              "      <th>TGT</th>\n",
              "      <th>MSFT</th>\n",
              "      <th>AMGN</th>\n",
              "    </tr>\n",
              "  </thead>\n",
              "  <tbody>\n",
              "    <tr>\n",
              "      <th>0</th>\n",
              "      <td>2000-01-03</td>\n",
              "      <td>0.088754</td>\n",
              "      <td>-0.061947</td>\n",
              "      <td>-0.033454</td>\n",
              "      <td>-0.018723</td>\n",
              "      <td>-0.001606</td>\n",
              "      <td>0.047867</td>\n",
              "    </tr>\n",
              "    <tr>\n",
              "      <th>1</th>\n",
              "      <td>2000-01-04</td>\n",
              "      <td>-0.084310</td>\n",
              "      <td>-0.027444</td>\n",
              "      <td>-0.037418</td>\n",
              "      <td>-0.043365</td>\n",
              "      <td>-0.033780</td>\n",
              "      <td>-0.076465</td>\n",
              "    </tr>\n",
              "    <tr>\n",
              "      <th>2</th>\n",
              "      <td>2000-01-05</td>\n",
              "      <td>0.014634</td>\n",
              "      <td>-0.006173</td>\n",
              "      <td>-0.020408</td>\n",
              "      <td>-0.022665</td>\n",
              "      <td>0.010544</td>\n",
              "      <td>0.034409</td>\n",
              "    </tr>\n",
              "    <tr>\n",
              "      <th>3</th>\n",
              "      <td>2000-01-06</td>\n",
              "      <td>-0.086538</td>\n",
              "      <td>0.014197</td>\n",
              "      <td>0.010913</td>\n",
              "      <td>-0.047310</td>\n",
              "      <td>-0.033498</td>\n",
              "      <td>0.016632</td>\n",
              "    </tr>\n",
              "    <tr>\n",
              "      <th>4</th>\n",
              "      <td>2000-01-07</td>\n",
              "      <td>0.047368</td>\n",
              "      <td>0.018373</td>\n",
              "      <td>0.075564</td>\n",
              "      <td>0.051607</td>\n",
              "      <td>0.013068</td>\n",
              "      <td>0.112474</td>\n",
              "    </tr>\n",
              "    <tr>\n",
              "      <th>...</th>\n",
              "      <td>...</td>\n",
              "      <td>...</td>\n",
              "      <td>...</td>\n",
              "      <td>...</td>\n",
              "      <td>...</td>\n",
              "      <td>...</td>\n",
              "      <td>...</td>\n",
              "    </tr>\n",
              "    <tr>\n",
              "      <th>4687</th>\n",
              "      <td>2018-08-20</td>\n",
              "      <td>-0.009744</td>\n",
              "      <td>-0.001307</td>\n",
              "      <td>-0.018906</td>\n",
              "      <td>0.003372</td>\n",
              "      <td>-0.006600</td>\n",
              "      <td>0.000709</td>\n",
              "    </tr>\n",
              "    <tr>\n",
              "      <th>4688</th>\n",
              "      <td>2018-08-21</td>\n",
              "      <td>-0.001949</td>\n",
              "      <td>0.006107</td>\n",
              "      <td>0.000833</td>\n",
              "      <td>-0.000600</td>\n",
              "      <td>-0.008328</td>\n",
              "      <td>-0.001265</td>\n",
              "    </tr>\n",
              "    <tr>\n",
              "      <th>4689</th>\n",
              "      <td>2018-08-22</td>\n",
              "      <td>0.000047</td>\n",
              "      <td>-0.003035</td>\n",
              "      <td>-0.004267</td>\n",
              "      <td>0.032064</td>\n",
              "      <td>0.010191</td>\n",
              "      <td>0.002686</td>\n",
              "    </tr>\n",
              "    <tr>\n",
              "      <th>4690</th>\n",
              "      <td>2018-08-23</td>\n",
              "      <td>0.002046</td>\n",
              "      <td>-0.002087</td>\n",
              "      <td>-0.005122</td>\n",
              "      <td>0.008960</td>\n",
              "      <td>0.004670</td>\n",
              "      <td>-0.006268</td>\n",
              "    </tr>\n",
              "    <tr>\n",
              "      <th>4691</th>\n",
              "      <td>2018-08-24</td>\n",
              "      <td>0.003109</td>\n",
              "      <td>-0.000436</td>\n",
              "      <td>-0.002417</td>\n",
              "      <td>0.006920</td>\n",
              "      <td>0.007810</td>\n",
              "      <td>0.000203</td>\n",
              "    </tr>\n",
              "  </tbody>\n",
              "</table>\n",
              "<p>4692 rows × 7 columns</p>\n",
              "</div>\n",
              "    <div class=\"colab-df-buttons\">\n",
              "\n",
              "  <div class=\"colab-df-container\">\n",
              "    <button class=\"colab-df-convert\" onclick=\"convertToInteractive('df-00e22a5e-2838-4633-8cfd-568df47e9895')\"\n",
              "            title=\"Convert this dataframe to an interactive table.\"\n",
              "            style=\"display:none;\">\n",
              "\n",
              "  <svg xmlns=\"http://www.w3.org/2000/svg\" height=\"24px\" viewBox=\"0 -960 960 960\">\n",
              "    <path d=\"M120-120v-720h720v720H120Zm60-500h600v-160H180v160Zm220 220h160v-160H400v160Zm0 220h160v-160H400v160ZM180-400h160v-160H180v160Zm440 0h160v-160H620v160ZM180-180h160v-160H180v160Zm440 0h160v-160H620v160Z\"/>\n",
              "  </svg>\n",
              "    </button>\n",
              "\n",
              "  <style>\n",
              "    .colab-df-container {\n",
              "      display:flex;\n",
              "      gap: 12px;\n",
              "    }\n",
              "\n",
              "    .colab-df-convert {\n",
              "      background-color: #E8F0FE;\n",
              "      border: none;\n",
              "      border-radius: 50%;\n",
              "      cursor: pointer;\n",
              "      display: none;\n",
              "      fill: #1967D2;\n",
              "      height: 32px;\n",
              "      padding: 0 0 0 0;\n",
              "      width: 32px;\n",
              "    }\n",
              "\n",
              "    .colab-df-convert:hover {\n",
              "      background-color: #E2EBFA;\n",
              "      box-shadow: 0px 1px 2px rgba(60, 64, 67, 0.3), 0px 1px 3px 1px rgba(60, 64, 67, 0.15);\n",
              "      fill: #174EA6;\n",
              "    }\n",
              "\n",
              "    .colab-df-buttons div {\n",
              "      margin-bottom: 4px;\n",
              "    }\n",
              "\n",
              "    [theme=dark] .colab-df-convert {\n",
              "      background-color: #3B4455;\n",
              "      fill: #D2E3FC;\n",
              "    }\n",
              "\n",
              "    [theme=dark] .colab-df-convert:hover {\n",
              "      background-color: #434B5C;\n",
              "      box-shadow: 0px 1px 3px 1px rgba(0, 0, 0, 0.15);\n",
              "      filter: drop-shadow(0px 1px 2px rgba(0, 0, 0, 0.3));\n",
              "      fill: #FFFFFF;\n",
              "    }\n",
              "  </style>\n",
              "\n",
              "    <script>\n",
              "      const buttonEl =\n",
              "        document.querySelector('#df-00e22a5e-2838-4633-8cfd-568df47e9895 button.colab-df-convert');\n",
              "      buttonEl.style.display =\n",
              "        google.colab.kernel.accessAllowed ? 'block' : 'none';\n",
              "\n",
              "      async function convertToInteractive(key) {\n",
              "        const element = document.querySelector('#df-00e22a5e-2838-4633-8cfd-568df47e9895');\n",
              "        const dataTable =\n",
              "          await google.colab.kernel.invokeFunction('convertToInteractive',\n",
              "                                                    [key], {});\n",
              "        if (!dataTable) return;\n",
              "\n",
              "        const docLinkHtml = 'Like what you see? Visit the ' +\n",
              "          '<a target=\"_blank\" href=https://colab.research.google.com/notebooks/data_table.ipynb>data table notebook</a>'\n",
              "          + ' to learn more about interactive tables.';\n",
              "        element.innerHTML = '';\n",
              "        dataTable['output_type'] = 'display_data';\n",
              "        await google.colab.output.renderOutput(dataTable, element);\n",
              "        const docLink = document.createElement('div');\n",
              "        docLink.innerHTML = docLinkHtml;\n",
              "        element.appendChild(docLink);\n",
              "      }\n",
              "    </script>\n",
              "  </div>\n",
              "\n",
              "\n",
              "<div id=\"df-4ba88a92-e446-48b8-95aa-adc4f64595bd\">\n",
              "  <button class=\"colab-df-quickchart\" onclick=\"quickchart('df-4ba88a92-e446-48b8-95aa-adc4f64595bd')\"\n",
              "            title=\"Suggest charts.\"\n",
              "            style=\"display:none;\">\n",
              "\n",
              "<svg xmlns=\"http://www.w3.org/2000/svg\" height=\"24px\"viewBox=\"0 0 24 24\"\n",
              "     width=\"24px\">\n",
              "    <g>\n",
              "        <path d=\"M19 3H5c-1.1 0-2 .9-2 2v14c0 1.1.9 2 2 2h14c1.1 0 2-.9 2-2V5c0-1.1-.9-2-2-2zM9 17H7v-7h2v7zm4 0h-2V7h2v10zm4 0h-2v-4h2v4z\"/>\n",
              "    </g>\n",
              "</svg>\n",
              "  </button>\n",
              "\n",
              "<style>\n",
              "  .colab-df-quickchart {\n",
              "      --bg-color: #E8F0FE;\n",
              "      --fill-color: #1967D2;\n",
              "      --hover-bg-color: #E2EBFA;\n",
              "      --hover-fill-color: #174EA6;\n",
              "      --disabled-fill-color: #AAA;\n",
              "      --disabled-bg-color: #DDD;\n",
              "  }\n",
              "\n",
              "  [theme=dark] .colab-df-quickchart {\n",
              "      --bg-color: #3B4455;\n",
              "      --fill-color: #D2E3FC;\n",
              "      --hover-bg-color: #434B5C;\n",
              "      --hover-fill-color: #FFFFFF;\n",
              "      --disabled-bg-color: #3B4455;\n",
              "      --disabled-fill-color: #666;\n",
              "  }\n",
              "\n",
              "  .colab-df-quickchart {\n",
              "    background-color: var(--bg-color);\n",
              "    border: none;\n",
              "    border-radius: 50%;\n",
              "    cursor: pointer;\n",
              "    display: none;\n",
              "    fill: var(--fill-color);\n",
              "    height: 32px;\n",
              "    padding: 0;\n",
              "    width: 32px;\n",
              "  }\n",
              "\n",
              "  .colab-df-quickchart:hover {\n",
              "    background-color: var(--hover-bg-color);\n",
              "    box-shadow: 0 1px 2px rgba(60, 64, 67, 0.3), 0 1px 3px 1px rgba(60, 64, 67, 0.15);\n",
              "    fill: var(--button-hover-fill-color);\n",
              "  }\n",
              "\n",
              "  .colab-df-quickchart-complete:disabled,\n",
              "  .colab-df-quickchart-complete:disabled:hover {\n",
              "    background-color: var(--disabled-bg-color);\n",
              "    fill: var(--disabled-fill-color);\n",
              "    box-shadow: none;\n",
              "  }\n",
              "\n",
              "  .colab-df-spinner {\n",
              "    border: 2px solid var(--fill-color);\n",
              "    border-color: transparent;\n",
              "    border-bottom-color: var(--fill-color);\n",
              "    animation:\n",
              "      spin 1s steps(1) infinite;\n",
              "  }\n",
              "\n",
              "  @keyframes spin {\n",
              "    0% {\n",
              "      border-color: transparent;\n",
              "      border-bottom-color: var(--fill-color);\n",
              "      border-left-color: var(--fill-color);\n",
              "    }\n",
              "    20% {\n",
              "      border-color: transparent;\n",
              "      border-left-color: var(--fill-color);\n",
              "      border-top-color: var(--fill-color);\n",
              "    }\n",
              "    30% {\n",
              "      border-color: transparent;\n",
              "      border-left-color: var(--fill-color);\n",
              "      border-top-color: var(--fill-color);\n",
              "      border-right-color: var(--fill-color);\n",
              "    }\n",
              "    40% {\n",
              "      border-color: transparent;\n",
              "      border-right-color: var(--fill-color);\n",
              "      border-top-color: var(--fill-color);\n",
              "    }\n",
              "    60% {\n",
              "      border-color: transparent;\n",
              "      border-right-color: var(--fill-color);\n",
              "    }\n",
              "    80% {\n",
              "      border-color: transparent;\n",
              "      border-right-color: var(--fill-color);\n",
              "      border-bottom-color: var(--fill-color);\n",
              "    }\n",
              "    90% {\n",
              "      border-color: transparent;\n",
              "      border-bottom-color: var(--fill-color);\n",
              "    }\n",
              "  }\n",
              "</style>\n",
              "\n",
              "  <script>\n",
              "    async function quickchart(key) {\n",
              "      const quickchartButtonEl =\n",
              "        document.querySelector('#' + key + ' button');\n",
              "      quickchartButtonEl.disabled = true;  // To prevent multiple clicks.\n",
              "      quickchartButtonEl.classList.add('colab-df-spinner');\n",
              "      try {\n",
              "        const charts = await google.colab.kernel.invokeFunction(\n",
              "            'suggestCharts', [key], {});\n",
              "      } catch (error) {\n",
              "        console.error('Error during call to suggestCharts:', error);\n",
              "      }\n",
              "      quickchartButtonEl.classList.remove('colab-df-spinner');\n",
              "      quickchartButtonEl.classList.add('colab-df-quickchart-complete');\n",
              "    }\n",
              "    (() => {\n",
              "      let quickchartButtonEl =\n",
              "        document.querySelector('#df-4ba88a92-e446-48b8-95aa-adc4f64595bd button');\n",
              "      quickchartButtonEl.style.display =\n",
              "        google.colab.kernel.accessAllowed ? 'block' : 'none';\n",
              "    })();\n",
              "  </script>\n",
              "</div>\n",
              "    </div>\n",
              "  </div>\n"
            ]
          },
          "metadata": {},
          "execution_count": 110
        }
      ]
    },
    {
      "cell_type": "markdown",
      "source": [
        "2. Cambia la columna `Unnamed: 0` y ponla como índice."
      ],
      "metadata": {
        "id": "Jy2WT72bSl8H"
      }
    },
    {
      "cell_type": "code",
      "source": [
        "# Usamos set_index(\"Unnamed: 0\") para pasar la columna como indice\n",
        "d=d.set_index(\"Unnamed: 0\")\n",
        "d"
      ],
      "metadata": {
        "colab": {
          "base_uri": "https://localhost:8080/",
          "height": 455
        },
        "id": "l846v20QSot-",
        "outputId": "edc9dbe9-8164-42a3-97c6-537c63af16e4"
      },
      "execution_count": null,
      "outputs": [
        {
          "output_type": "execute_result",
          "data": {
            "text/plain": [
              "                AAPL       JPM       WMT       TGT      MSFT      AMGN\n",
              "Unnamed: 0                                                            \n",
              "2000-01-03  0.088754 -0.061947 -0.033454 -0.018723 -0.001606  0.047867\n",
              "2000-01-04 -0.084310 -0.027444 -0.037418 -0.043365 -0.033780 -0.076465\n",
              "2000-01-05  0.014634 -0.006173 -0.020408 -0.022665  0.010544  0.034409\n",
              "2000-01-06 -0.086538  0.014197  0.010913 -0.047310 -0.033498  0.016632\n",
              "2000-01-07  0.047368  0.018373  0.075564  0.051607  0.013068  0.112474\n",
              "...              ...       ...       ...       ...       ...       ...\n",
              "2018-08-20 -0.009744 -0.001307 -0.018906  0.003372 -0.006600  0.000709\n",
              "2018-08-21 -0.001949  0.006107  0.000833 -0.000600 -0.008328 -0.001265\n",
              "2018-08-22  0.000047 -0.003035 -0.004267  0.032064  0.010191  0.002686\n",
              "2018-08-23  0.002046 -0.002087 -0.005122  0.008960  0.004670 -0.006268\n",
              "2018-08-24  0.003109 -0.000436 -0.002417  0.006920  0.007810  0.000203\n",
              "\n",
              "[4692 rows x 6 columns]"
            ],
            "text/html": [
              "\n",
              "  <div id=\"df-4cf47c29-38db-4680-89dc-8d300236e4fc\" class=\"colab-df-container\">\n",
              "    <div>\n",
              "<style scoped>\n",
              "    .dataframe tbody tr th:only-of-type {\n",
              "        vertical-align: middle;\n",
              "    }\n",
              "\n",
              "    .dataframe tbody tr th {\n",
              "        vertical-align: top;\n",
              "    }\n",
              "\n",
              "    .dataframe thead th {\n",
              "        text-align: right;\n",
              "    }\n",
              "</style>\n",
              "<table border=\"1\" class=\"dataframe\">\n",
              "  <thead>\n",
              "    <tr style=\"text-align: right;\">\n",
              "      <th></th>\n",
              "      <th>AAPL</th>\n",
              "      <th>JPM</th>\n",
              "      <th>WMT</th>\n",
              "      <th>TGT</th>\n",
              "      <th>MSFT</th>\n",
              "      <th>AMGN</th>\n",
              "    </tr>\n",
              "    <tr>\n",
              "      <th>Unnamed: 0</th>\n",
              "      <th></th>\n",
              "      <th></th>\n",
              "      <th></th>\n",
              "      <th></th>\n",
              "      <th></th>\n",
              "      <th></th>\n",
              "    </tr>\n",
              "  </thead>\n",
              "  <tbody>\n",
              "    <tr>\n",
              "      <th>2000-01-03</th>\n",
              "      <td>0.088754</td>\n",
              "      <td>-0.061947</td>\n",
              "      <td>-0.033454</td>\n",
              "      <td>-0.018723</td>\n",
              "      <td>-0.001606</td>\n",
              "      <td>0.047867</td>\n",
              "    </tr>\n",
              "    <tr>\n",
              "      <th>2000-01-04</th>\n",
              "      <td>-0.084310</td>\n",
              "      <td>-0.027444</td>\n",
              "      <td>-0.037418</td>\n",
              "      <td>-0.043365</td>\n",
              "      <td>-0.033780</td>\n",
              "      <td>-0.076465</td>\n",
              "    </tr>\n",
              "    <tr>\n",
              "      <th>2000-01-05</th>\n",
              "      <td>0.014634</td>\n",
              "      <td>-0.006173</td>\n",
              "      <td>-0.020408</td>\n",
              "      <td>-0.022665</td>\n",
              "      <td>0.010544</td>\n",
              "      <td>0.034409</td>\n",
              "    </tr>\n",
              "    <tr>\n",
              "      <th>2000-01-06</th>\n",
              "      <td>-0.086538</td>\n",
              "      <td>0.014197</td>\n",
              "      <td>0.010913</td>\n",
              "      <td>-0.047310</td>\n",
              "      <td>-0.033498</td>\n",
              "      <td>0.016632</td>\n",
              "    </tr>\n",
              "    <tr>\n",
              "      <th>2000-01-07</th>\n",
              "      <td>0.047368</td>\n",
              "      <td>0.018373</td>\n",
              "      <td>0.075564</td>\n",
              "      <td>0.051607</td>\n",
              "      <td>0.013068</td>\n",
              "      <td>0.112474</td>\n",
              "    </tr>\n",
              "    <tr>\n",
              "      <th>...</th>\n",
              "      <td>...</td>\n",
              "      <td>...</td>\n",
              "      <td>...</td>\n",
              "      <td>...</td>\n",
              "      <td>...</td>\n",
              "      <td>...</td>\n",
              "    </tr>\n",
              "    <tr>\n",
              "      <th>2018-08-20</th>\n",
              "      <td>-0.009744</td>\n",
              "      <td>-0.001307</td>\n",
              "      <td>-0.018906</td>\n",
              "      <td>0.003372</td>\n",
              "      <td>-0.006600</td>\n",
              "      <td>0.000709</td>\n",
              "    </tr>\n",
              "    <tr>\n",
              "      <th>2018-08-21</th>\n",
              "      <td>-0.001949</td>\n",
              "      <td>0.006107</td>\n",
              "      <td>0.000833</td>\n",
              "      <td>-0.000600</td>\n",
              "      <td>-0.008328</td>\n",
              "      <td>-0.001265</td>\n",
              "    </tr>\n",
              "    <tr>\n",
              "      <th>2018-08-22</th>\n",
              "      <td>0.000047</td>\n",
              "      <td>-0.003035</td>\n",
              "      <td>-0.004267</td>\n",
              "      <td>0.032064</td>\n",
              "      <td>0.010191</td>\n",
              "      <td>0.002686</td>\n",
              "    </tr>\n",
              "    <tr>\n",
              "      <th>2018-08-23</th>\n",
              "      <td>0.002046</td>\n",
              "      <td>-0.002087</td>\n",
              "      <td>-0.005122</td>\n",
              "      <td>0.008960</td>\n",
              "      <td>0.004670</td>\n",
              "      <td>-0.006268</td>\n",
              "    </tr>\n",
              "    <tr>\n",
              "      <th>2018-08-24</th>\n",
              "      <td>0.003109</td>\n",
              "      <td>-0.000436</td>\n",
              "      <td>-0.002417</td>\n",
              "      <td>0.006920</td>\n",
              "      <td>0.007810</td>\n",
              "      <td>0.000203</td>\n",
              "    </tr>\n",
              "  </tbody>\n",
              "</table>\n",
              "<p>4692 rows × 6 columns</p>\n",
              "</div>\n",
              "    <div class=\"colab-df-buttons\">\n",
              "\n",
              "  <div class=\"colab-df-container\">\n",
              "    <button class=\"colab-df-convert\" onclick=\"convertToInteractive('df-4cf47c29-38db-4680-89dc-8d300236e4fc')\"\n",
              "            title=\"Convert this dataframe to an interactive table.\"\n",
              "            style=\"display:none;\">\n",
              "\n",
              "  <svg xmlns=\"http://www.w3.org/2000/svg\" height=\"24px\" viewBox=\"0 -960 960 960\">\n",
              "    <path d=\"M120-120v-720h720v720H120Zm60-500h600v-160H180v160Zm220 220h160v-160H400v160Zm0 220h160v-160H400v160ZM180-400h160v-160H180v160Zm440 0h160v-160H620v160ZM180-180h160v-160H180v160Zm440 0h160v-160H620v160Z\"/>\n",
              "  </svg>\n",
              "    </button>\n",
              "\n",
              "  <style>\n",
              "    .colab-df-container {\n",
              "      display:flex;\n",
              "      gap: 12px;\n",
              "    }\n",
              "\n",
              "    .colab-df-convert {\n",
              "      background-color: #E8F0FE;\n",
              "      border: none;\n",
              "      border-radius: 50%;\n",
              "      cursor: pointer;\n",
              "      display: none;\n",
              "      fill: #1967D2;\n",
              "      height: 32px;\n",
              "      padding: 0 0 0 0;\n",
              "      width: 32px;\n",
              "    }\n",
              "\n",
              "    .colab-df-convert:hover {\n",
              "      background-color: #E2EBFA;\n",
              "      box-shadow: 0px 1px 2px rgba(60, 64, 67, 0.3), 0px 1px 3px 1px rgba(60, 64, 67, 0.15);\n",
              "      fill: #174EA6;\n",
              "    }\n",
              "\n",
              "    .colab-df-buttons div {\n",
              "      margin-bottom: 4px;\n",
              "    }\n",
              "\n",
              "    [theme=dark] .colab-df-convert {\n",
              "      background-color: #3B4455;\n",
              "      fill: #D2E3FC;\n",
              "    }\n",
              "\n",
              "    [theme=dark] .colab-df-convert:hover {\n",
              "      background-color: #434B5C;\n",
              "      box-shadow: 0px 1px 3px 1px rgba(0, 0, 0, 0.15);\n",
              "      filter: drop-shadow(0px 1px 2px rgba(0, 0, 0, 0.3));\n",
              "      fill: #FFFFFF;\n",
              "    }\n",
              "  </style>\n",
              "\n",
              "    <script>\n",
              "      const buttonEl =\n",
              "        document.querySelector('#df-4cf47c29-38db-4680-89dc-8d300236e4fc button.colab-df-convert');\n",
              "      buttonEl.style.display =\n",
              "        google.colab.kernel.accessAllowed ? 'block' : 'none';\n",
              "\n",
              "      async function convertToInteractive(key) {\n",
              "        const element = document.querySelector('#df-4cf47c29-38db-4680-89dc-8d300236e4fc');\n",
              "        const dataTable =\n",
              "          await google.colab.kernel.invokeFunction('convertToInteractive',\n",
              "                                                    [key], {});\n",
              "        if (!dataTable) return;\n",
              "\n",
              "        const docLinkHtml = 'Like what you see? Visit the ' +\n",
              "          '<a target=\"_blank\" href=https://colab.research.google.com/notebooks/data_table.ipynb>data table notebook</a>'\n",
              "          + ' to learn more about interactive tables.';\n",
              "        element.innerHTML = '';\n",
              "        dataTable['output_type'] = 'display_data';\n",
              "        await google.colab.output.renderOutput(dataTable, element);\n",
              "        const docLink = document.createElement('div');\n",
              "        docLink.innerHTML = docLinkHtml;\n",
              "        element.appendChild(docLink);\n",
              "      }\n",
              "    </script>\n",
              "  </div>\n",
              "\n",
              "\n",
              "<div id=\"df-fb35f647-f228-45ff-b196-6c0964458d2a\">\n",
              "  <button class=\"colab-df-quickchart\" onclick=\"quickchart('df-fb35f647-f228-45ff-b196-6c0964458d2a')\"\n",
              "            title=\"Suggest charts.\"\n",
              "            style=\"display:none;\">\n",
              "\n",
              "<svg xmlns=\"http://www.w3.org/2000/svg\" height=\"24px\"viewBox=\"0 0 24 24\"\n",
              "     width=\"24px\">\n",
              "    <g>\n",
              "        <path d=\"M19 3H5c-1.1 0-2 .9-2 2v14c0 1.1.9 2 2 2h14c1.1 0 2-.9 2-2V5c0-1.1-.9-2-2-2zM9 17H7v-7h2v7zm4 0h-2V7h2v10zm4 0h-2v-4h2v4z\"/>\n",
              "    </g>\n",
              "</svg>\n",
              "  </button>\n",
              "\n",
              "<style>\n",
              "  .colab-df-quickchart {\n",
              "      --bg-color: #E8F0FE;\n",
              "      --fill-color: #1967D2;\n",
              "      --hover-bg-color: #E2EBFA;\n",
              "      --hover-fill-color: #174EA6;\n",
              "      --disabled-fill-color: #AAA;\n",
              "      --disabled-bg-color: #DDD;\n",
              "  }\n",
              "\n",
              "  [theme=dark] .colab-df-quickchart {\n",
              "      --bg-color: #3B4455;\n",
              "      --fill-color: #D2E3FC;\n",
              "      --hover-bg-color: #434B5C;\n",
              "      --hover-fill-color: #FFFFFF;\n",
              "      --disabled-bg-color: #3B4455;\n",
              "      --disabled-fill-color: #666;\n",
              "  }\n",
              "\n",
              "  .colab-df-quickchart {\n",
              "    background-color: var(--bg-color);\n",
              "    border: none;\n",
              "    border-radius: 50%;\n",
              "    cursor: pointer;\n",
              "    display: none;\n",
              "    fill: var(--fill-color);\n",
              "    height: 32px;\n",
              "    padding: 0;\n",
              "    width: 32px;\n",
              "  }\n",
              "\n",
              "  .colab-df-quickchart:hover {\n",
              "    background-color: var(--hover-bg-color);\n",
              "    box-shadow: 0 1px 2px rgba(60, 64, 67, 0.3), 0 1px 3px 1px rgba(60, 64, 67, 0.15);\n",
              "    fill: var(--button-hover-fill-color);\n",
              "  }\n",
              "\n",
              "  .colab-df-quickchart-complete:disabled,\n",
              "  .colab-df-quickchart-complete:disabled:hover {\n",
              "    background-color: var(--disabled-bg-color);\n",
              "    fill: var(--disabled-fill-color);\n",
              "    box-shadow: none;\n",
              "  }\n",
              "\n",
              "  .colab-df-spinner {\n",
              "    border: 2px solid var(--fill-color);\n",
              "    border-color: transparent;\n",
              "    border-bottom-color: var(--fill-color);\n",
              "    animation:\n",
              "      spin 1s steps(1) infinite;\n",
              "  }\n",
              "\n",
              "  @keyframes spin {\n",
              "    0% {\n",
              "      border-color: transparent;\n",
              "      border-bottom-color: var(--fill-color);\n",
              "      border-left-color: var(--fill-color);\n",
              "    }\n",
              "    20% {\n",
              "      border-color: transparent;\n",
              "      border-left-color: var(--fill-color);\n",
              "      border-top-color: var(--fill-color);\n",
              "    }\n",
              "    30% {\n",
              "      border-color: transparent;\n",
              "      border-left-color: var(--fill-color);\n",
              "      border-top-color: var(--fill-color);\n",
              "      border-right-color: var(--fill-color);\n",
              "    }\n",
              "    40% {\n",
              "      border-color: transparent;\n",
              "      border-right-color: var(--fill-color);\n",
              "      border-top-color: var(--fill-color);\n",
              "    }\n",
              "    60% {\n",
              "      border-color: transparent;\n",
              "      border-right-color: var(--fill-color);\n",
              "    }\n",
              "    80% {\n",
              "      border-color: transparent;\n",
              "      border-right-color: var(--fill-color);\n",
              "      border-bottom-color: var(--fill-color);\n",
              "    }\n",
              "    90% {\n",
              "      border-color: transparent;\n",
              "      border-bottom-color: var(--fill-color);\n",
              "    }\n",
              "  }\n",
              "</style>\n",
              "\n",
              "  <script>\n",
              "    async function quickchart(key) {\n",
              "      const quickchartButtonEl =\n",
              "        document.querySelector('#' + key + ' button');\n",
              "      quickchartButtonEl.disabled = true;  // To prevent multiple clicks.\n",
              "      quickchartButtonEl.classList.add('colab-df-spinner');\n",
              "      try {\n",
              "        const charts = await google.colab.kernel.invokeFunction(\n",
              "            'suggestCharts', [key], {});\n",
              "      } catch (error) {\n",
              "        console.error('Error during call to suggestCharts:', error);\n",
              "      }\n",
              "      quickchartButtonEl.classList.remove('colab-df-spinner');\n",
              "      quickchartButtonEl.classList.add('colab-df-quickchart-complete');\n",
              "    }\n",
              "    (() => {\n",
              "      let quickchartButtonEl =\n",
              "        document.querySelector('#df-fb35f647-f228-45ff-b196-6c0964458d2a button');\n",
              "      quickchartButtonEl.style.display =\n",
              "        google.colab.kernel.accessAllowed ? 'block' : 'none';\n",
              "    })();\n",
              "  </script>\n",
              "</div>\n",
              "    </div>\n",
              "  </div>\n"
            ]
          },
          "metadata": {},
          "execution_count": 111
        }
      ]
    },
    {
      "cell_type": "markdown",
      "source": [
        "3. Calcula la media y varianza de cada ticker.\n",
        "\n"
      ],
      "metadata": {
        "id": "0qcngy3eSi97"
      }
    },
    {
      "cell_type": "code",
      "source": [
        "# Calculamos la media con .mean()\n",
        "d.mean()"
      ],
      "metadata": {
        "colab": {
          "base_uri": "https://localhost:8080/"
        },
        "id": "5BonUrH1VIeh",
        "outputId": "92f4d9ee-5e50-45bf-c2a4-ca1fb255ef4c"
      },
      "execution_count": null,
      "outputs": [
        {
          "output_type": "execute_result",
          "data": {
            "text/plain": [
              "AAPL    0.001220\n",
              "JPM     0.000476\n",
              "WMT     0.000182\n",
              "TGT     0.000390\n",
              "MSFT    0.000317\n",
              "AMGN    0.000458\n",
              "dtype: float64"
            ]
          },
          "metadata": {},
          "execution_count": 112
        }
      ]
    },
    {
      "cell_type": "code",
      "source": [
        "# Calculamos la varianza con .var()\n",
        "d.var()"
      ],
      "metadata": {
        "colab": {
          "base_uri": "https://localhost:8080/"
        },
        "id": "-GPnPXyaVkqo",
        "outputId": "c7156807-02e2-4db8-9e6a-6e2e4d607a46"
      },
      "execution_count": null,
      "outputs": [
        {
          "output_type": "execute_result",
          "data": {
            "text/plain": [
              "AAPL    0.000669\n",
              "JPM     0.000620\n",
              "WMT     0.000229\n",
              "TGT     0.000412\n",
              "MSFT    0.000371\n",
              "AMGN    0.000413\n",
              "dtype: float64"
            ]
          },
          "metadata": {},
          "execution_count": 113
        }
      ]
    },
    {
      "cell_type": "markdown",
      "source": [
        "4. Usando una definición a través de la función `def`, realiza la siguiente transformación sobre los valores de la columna de **AAPL**:  Toma la media de la columna y resta a cada dato de la serie, su media. Después, a cada valor resultante de la columna, divide entre la desviación estándar.\n"
      ],
      "metadata": {
        "id": "C8HTAX79VDdu"
      }
    },
    {
      "cell_type": "code",
      "source": [
        "# Recuperamos la media de AAPL\n",
        "media1=d[\"AAPL\"].mean()\n",
        "media1"
      ],
      "metadata": {
        "colab": {
          "base_uri": "https://localhost:8080/"
        },
        "id": "FRg9Au-4XV4K",
        "outputId": "537b71af-01ae-47e5-9828-57ccee3309f9"
      },
      "execution_count": null,
      "outputs": [
        {
          "output_type": "execute_result",
          "data": {
            "text/plain": [
              "0.0012196219842823244"
            ]
          },
          "metadata": {},
          "execution_count": 114
        }
      ]
    },
    {
      "cell_type": "code",
      "source": [
        "# Con la siguiente definición, se le resta acada dato la media de AAPL\n",
        "def AAPL(a,b):\n",
        "  x=a-b\n",
        "  return x\n",
        "\n",
        "AAPL(d[\"AAPL\"],media1)"
      ],
      "metadata": {
        "colab": {
          "base_uri": "https://localhost:8080/"
        },
        "id": "t-vES4nSVzoP",
        "outputId": "dc23eae5-74f7-4a07-ceeb-b645cbecacf5"
      },
      "execution_count": null,
      "outputs": [
        {
          "output_type": "execute_result",
          "data": {
            "text/plain": [
              "Unnamed: 0\n",
              "2000-01-03    0.087534\n",
              "2000-01-04   -0.085530\n",
              "2000-01-05    0.013414\n",
              "2000-01-06   -0.087758\n",
              "2000-01-07    0.046149\n",
              "                ...   \n",
              "2018-08-20   -0.010963\n",
              "2018-08-21   -0.003169\n",
              "2018-08-22   -0.001173\n",
              "2018-08-23    0.000826\n",
              "2018-08-24    0.001890\n",
              "Name: AAPL, Length: 4692, dtype: float64"
            ]
          },
          "metadata": {},
          "execution_count": 115
        }
      ]
    },
    {
      "cell_type": "code",
      "source": [
        "# Ahora nombramos a una variable std para la desviación estandar con la función .std()\n",
        "std1=d[\"AAPL\"].std()\n",
        "\n",
        "# Con la siguiente definición se  divide a cada dato (del inciso anterior) entre la desviación estandar\n",
        "def stdap(a,b):\n",
        "  x=a/b\n",
        "  return x\n",
        "\n",
        "stdap(d[\"AAPL\"],std1)"
      ],
      "metadata": {
        "colab": {
          "base_uri": "https://localhost:8080/"
        },
        "id": "N9TMJ3oBrOVN",
        "outputId": "09b8076e-36c3-4e1c-cc2c-37ecf418da7b"
      },
      "execution_count": null,
      "outputs": [
        {
          "output_type": "execute_result",
          "data": {
            "text/plain": [
              "Unnamed: 0\n",
              "2000-01-03    3.432506\n",
              "2000-01-04   -3.260661\n",
              "2000-01-05    0.565966\n",
              "2000-01-06   -3.346828\n",
              "2000-01-07    1.831949\n",
              "                ...   \n",
              "2018-08-20   -0.376825\n",
              "2018-08-21   -0.075391\n",
              "2018-08-22    0.001800\n",
              "2018-08-23    0.079130\n",
              "2018-08-24    0.120246\n",
              "Name: AAPL, Length: 4692, dtype: float64"
            ]
          },
          "metadata": {},
          "execution_count": 116
        }
      ]
    },
    {
      "cell_type": "markdown",
      "source": [
        "5. Usando tu definición, realiza lo mismo para los otros tickers."
      ],
      "metadata": {
        "id": "VPXOmwaoVvU-"
      }
    },
    {
      "cell_type": "code",
      "source": [
        "# Ahora hacemos lo mismo pero para JPM\n",
        "media2=d[\"JPM\"].mean()\n",
        "media2"
      ],
      "metadata": {
        "colab": {
          "base_uri": "https://localhost:8080/"
        },
        "id": "uH3nk4nJonNj",
        "outputId": "e848eaa5-dd72-4a1a-af9a-cbc771d9ed3b"
      },
      "execution_count": null,
      "outputs": [
        {
          "output_type": "execute_result",
          "data": {
            "text/plain": [
              "0.0004764647984969665"
            ]
          },
          "metadata": {},
          "execution_count": 117
        }
      ]
    },
    {
      "cell_type": "code",
      "source": [
        "# Con la siguiente definición, se le resta acada dato la media de JPM\n",
        "def JPM(a,b):\n",
        "  x=a-b\n",
        "  return x\n",
        "\n",
        "JPM(d[\"JPM\"],media2)"
      ],
      "metadata": {
        "colab": {
          "base_uri": "https://localhost:8080/"
        },
        "id": "01IzJ8QgoI6m",
        "outputId": "ed023275-0e3c-49ec-e634-9a7c2636b32a"
      },
      "execution_count": null,
      "outputs": [
        {
          "output_type": "execute_result",
          "data": {
            "text/plain": [
              "Unnamed: 0\n",
              "2000-01-03   -0.062423\n",
              "2000-01-04   -0.027921\n",
              "2000-01-05   -0.006649\n",
              "2000-01-06    0.013721\n",
              "2000-01-07    0.017896\n",
              "                ...   \n",
              "2018-08-20   -0.001783\n",
              "2018-08-21    0.005631\n",
              "2018-08-22   -0.003511\n",
              "2018-08-23   -0.002564\n",
              "2018-08-24   -0.000912\n",
              "Name: JPM, Length: 4692, dtype: float64"
            ]
          },
          "metadata": {},
          "execution_count": 118
        }
      ]
    },
    {
      "cell_type": "code",
      "source": [
        "# Ahora nombramos a una variable std para la desviación estandar con la función .std()\n",
        "std2=d[\"JPM\"].std()\n",
        "\n",
        "# Con la siguiente definición se  divide a cada dato (del inciso anterior) entre la desviación estandar\n",
        "def stdjpm(a,b):\n",
        "  x=a/b\n",
        "  return x\n",
        "\n",
        "stdjpm(d[\"JPM\"],std2)"
      ],
      "metadata": {
        "colab": {
          "base_uri": "https://localhost:8080/"
        },
        "id": "YvSUDrZ6s1CP",
        "outputId": "7903c6e9-f909-455c-9471-a13bc7f256c8"
      },
      "execution_count": null,
      "outputs": [
        {
          "output_type": "execute_result",
          "data": {
            "text/plain": [
              "Unnamed: 0\n",
              "2000-01-03   -2.487909\n",
              "2000-01-04   -1.102213\n",
              "2000-01-05   -0.247914\n",
              "2000-01-06    0.570179\n",
              "2000-01-07    0.737883\n",
              "                ...   \n",
              "2018-08-20   -0.052488\n",
              "2018-08-21    0.245273\n",
              "2018-08-22   -0.121892\n",
              "2018-08-23   -0.083837\n",
              "2018-08-24   -0.017504\n",
              "Name: JPM, Length: 4692, dtype: float64"
            ]
          },
          "metadata": {},
          "execution_count": 119
        }
      ]
    },
    {
      "cell_type": "code",
      "source": [
        "# Ahora hacemos lo mismo pero para WMT\n",
        "media3=d[\"WMT\"].mean()\n",
        "media3"
      ],
      "metadata": {
        "colab": {
          "base_uri": "https://localhost:8080/"
        },
        "id": "jZOTbx5JonTO",
        "outputId": "b6d3e6d1-afd8-4d47-8733-525ee772ef41"
      },
      "execution_count": null,
      "outputs": [
        {
          "output_type": "execute_result",
          "data": {
            "text/plain": [
              "0.00018171004109515597"
            ]
          },
          "metadata": {},
          "execution_count": 120
        }
      ]
    },
    {
      "cell_type": "code",
      "source": [
        "# Con la siguiente definición, se le resta acada dato la media de WMT\n",
        "def WMT(a,b):\n",
        "  x=a-b\n",
        "  return x\n",
        "\n",
        "WMT(d[\"WMT\"],media3)"
      ],
      "metadata": {
        "colab": {
          "base_uri": "https://localhost:8080/"
        },
        "id": "3_mQJ7C_pC9L",
        "outputId": "37559424-15f4-4ed0-87ae-b5dc5a7f1b42"
      },
      "execution_count": null,
      "outputs": [
        {
          "output_type": "execute_result",
          "data": {
            "text/plain": [
              "Unnamed: 0\n",
              "2000-01-03   -0.033636\n",
              "2000-01-04   -0.037600\n",
              "2000-01-05   -0.020590\n",
              "2000-01-06    0.010731\n",
              "2000-01-07    0.075383\n",
              "                ...   \n",
              "2018-08-20   -0.019088\n",
              "2018-08-21    0.000652\n",
              "2018-08-22   -0.004449\n",
              "2018-08-23   -0.005303\n",
              "2018-08-24   -0.002598\n",
              "Name: WMT, Length: 4692, dtype: float64"
            ]
          },
          "metadata": {},
          "execution_count": 121
        }
      ]
    },
    {
      "cell_type": "code",
      "source": [
        "# Ahora nombramos a una variable std para la desviación estandar con la función .std()\n",
        "std3=d[\"WMT\"].std()\n",
        "\n",
        "# Con la siguiente definición se  divide a cada dato (del inciso anterior) entre la desviación estandar\n",
        "def stdwmt(a,b):\n",
        "  x=a/b\n",
        "  return x\n",
        "\n",
        "stdwmt(d[\"WMT\"],std3)"
      ],
      "metadata": {
        "colab": {
          "base_uri": "https://localhost:8080/"
        },
        "id": "gBjkUwkws9mP",
        "outputId": "0a63a38a-af23-4644-c0ae-c05ec7b818f0"
      },
      "execution_count": null,
      "outputs": [
        {
          "output_type": "execute_result",
          "data": {
            "text/plain": [
              "Unnamed: 0\n",
              "2000-01-03   -2.212440\n",
              "2000-01-04   -2.474613\n",
              "2000-01-05   -1.349674\n",
              "2000-01-06    0.721701\n",
              "2000-01-07    4.997370\n",
              "                ...   \n",
              "2018-08-20   -1.250361\n",
              "2018-08-21    0.055113\n",
              "2018-08-22   -0.282215\n",
              "2018-08-23   -0.338722\n",
              "2018-08-24   -0.159814\n",
              "Name: WMT, Length: 4692, dtype: float64"
            ]
          },
          "metadata": {},
          "execution_count": 122
        }
      ]
    },
    {
      "cell_type": "code",
      "source": [
        "# Ahora hacemos lo mismo pero para TGT\n",
        "media4=d[\"TGT\"].mean()\n",
        "media4"
      ],
      "metadata": {
        "colab": {
          "base_uri": "https://localhost:8080/"
        },
        "id": "gPduxd8DpKsv",
        "outputId": "9caa0a1f-f642-43a3-eab2-54c838187f8a"
      },
      "execution_count": null,
      "outputs": [
        {
          "output_type": "execute_result",
          "data": {
            "text/plain": [
              "0.0003904877167877815"
            ]
          },
          "metadata": {},
          "execution_count": 123
        }
      ]
    },
    {
      "cell_type": "code",
      "source": [
        "# Con la siguiente definición, se le resta acada dato la media de TGT\n",
        "def TGT(a,b):\n",
        "  x=a-b\n",
        "  return x\n",
        "\n",
        "TGT(d[\"TGT\"],media4)"
      ],
      "metadata": {
        "colab": {
          "base_uri": "https://localhost:8080/"
        },
        "id": "JZOZYdQPpVX2",
        "outputId": "b7e6af43-27d1-44ff-9c18-9a29740aa50d"
      },
      "execution_count": null,
      "outputs": [
        {
          "output_type": "execute_result",
          "data": {
            "text/plain": [
              "Unnamed: 0\n",
              "2000-01-03   -0.019114\n",
              "2000-01-04   -0.043756\n",
              "2000-01-05   -0.023056\n",
              "2000-01-06   -0.047700\n",
              "2000-01-07    0.051216\n",
              "                ...   \n",
              "2018-08-20    0.002981\n",
              "2018-08-21   -0.000991\n",
              "2018-08-22    0.031674\n",
              "2018-08-23    0.008569\n",
              "2018-08-24    0.006529\n",
              "Name: TGT, Length: 4692, dtype: float64"
            ]
          },
          "metadata": {},
          "execution_count": 124
        }
      ]
    },
    {
      "cell_type": "code",
      "source": [
        "# Ahora nombramos a una variable std para la desviación estandar con la función .std()\n",
        "std4=d[\"TGT\"].std()\n",
        "\n",
        "# Con la siguiente definición se  divide a cada dato (del inciso anterior) entre la desviación estandar\n",
        "def stdtgt(a,b):\n",
        "  x=a/b\n",
        "  return x\n",
        "\n",
        "stdtgt(d[\"TGT\"],std4)"
      ],
      "metadata": {
        "colab": {
          "base_uri": "https://localhost:8080/"
        },
        "id": "Azpncfb5tDsT",
        "outputId": "42299b1e-6481-4adb-8d33-509a49d920f0"
      },
      "execution_count": null,
      "outputs": [
        {
          "output_type": "execute_result",
          "data": {
            "text/plain": [
              "Unnamed: 0\n",
              "2000-01-03   -0.922009\n",
              "2000-01-04   -2.135458\n",
              "2000-01-05   -1.116130\n",
              "2000-01-06   -2.329709\n",
              "2000-01-07    2.541299\n",
              "                ...   \n",
              "2018-08-20    0.166042\n",
              "2018-08-21   -0.029553\n",
              "2018-08-22    1.578970\n",
              "2018-08-23    0.441208\n",
              "2018-08-24    0.340746\n",
              "Name: TGT, Length: 4692, dtype: float64"
            ]
          },
          "metadata": {},
          "execution_count": 125
        }
      ]
    },
    {
      "cell_type": "code",
      "source": [
        "# Ahora hacemos lo mismo pero para MSFT\n",
        "media5=d[\"MSFT\"].mean()\n",
        "media5"
      ],
      "metadata": {
        "colab": {
          "base_uri": "https://localhost:8080/"
        },
        "id": "QOfqFFrupm0M",
        "outputId": "6e1c6b2b-a26d-40f0-bcc0-66057b9b99fd"
      },
      "execution_count": null,
      "outputs": [
        {
          "output_type": "execute_result",
          "data": {
            "text/plain": [
              "0.00031738556326701143"
            ]
          },
          "metadata": {},
          "execution_count": 126
        }
      ]
    },
    {
      "cell_type": "code",
      "source": [
        "# Con la siguiente definición, se le resta acada dato la media de MSFT\n",
        "def MSFT(a,b):\n",
        "  x=a-b\n",
        "  return x\n",
        "\n",
        "MSFT(d[\"MSFT\"],media5)"
      ],
      "metadata": {
        "colab": {
          "base_uri": "https://localhost:8080/"
        },
        "id": "HSpo8Ti_puec",
        "outputId": "f1118f26-dfa1-4f81-e7bd-eeedf0145cbd"
      },
      "execution_count": null,
      "outputs": [
        {
          "output_type": "execute_result",
          "data": {
            "text/plain": [
              "Unnamed: 0\n",
              "2000-01-03   -0.001923\n",
              "2000-01-04   -0.034098\n",
              "2000-01-05    0.010226\n",
              "2000-01-06   -0.033815\n",
              "2000-01-07    0.012751\n",
              "                ...   \n",
              "2018-08-20   -0.006917\n",
              "2018-08-21   -0.008645\n",
              "2018-08-22    0.009873\n",
              "2018-08-23    0.004353\n",
              "2018-08-24    0.007492\n",
              "Name: MSFT, Length: 4692, dtype: float64"
            ]
          },
          "metadata": {},
          "execution_count": 127
        }
      ]
    },
    {
      "cell_type": "code",
      "source": [
        "# Ahora nombramos a una variable std para la desviación estandar con la función .std()\n",
        "std5=d[\"MSFT\"].std()\n",
        "\n",
        "# Con la siguiente definición se  divide a cada dato (del inciso anterior) entre la desviación estandar\n",
        "def stdtgt(a,b):\n",
        "  x=a/b\n",
        "  return x\n",
        "\n",
        "stdtgt(d[\"TGT\"],std5)"
      ],
      "metadata": {
        "colab": {
          "base_uri": "https://localhost:8080/"
        },
        "id": "fF7N0ShdtI8K",
        "outputId": "79f14354-4876-490f-f7cf-8021d81c3988"
      },
      "execution_count": null,
      "outputs": [
        {
          "output_type": "execute_result",
          "data": {
            "text/plain": [
              "Unnamed: 0\n",
              "2000-01-03   -0.971737\n",
              "2000-01-04   -2.250634\n",
              "2000-01-05   -1.176328\n",
              "2000-01-06   -2.455362\n",
              "2000-01-07    2.678364\n",
              "                ...   \n",
              "2018-08-20    0.174998\n",
              "2018-08-21   -0.031147\n",
              "2018-08-22    1.664132\n",
              "2018-08-23    0.465005\n",
              "2018-08-24    0.359125\n",
              "Name: TGT, Length: 4692, dtype: float64"
            ]
          },
          "metadata": {},
          "execution_count": 128
        }
      ]
    },
    {
      "cell_type": "code",
      "source": [
        "# Ahora hacemos lo mismo pero para AMGN\n",
        "media6=d[\"AMGN\"].mean()\n",
        "media6"
      ],
      "metadata": {
        "colab": {
          "base_uri": "https://localhost:8080/"
        },
        "id": "MXh_ptzfqGM9",
        "outputId": "1ef44873-e777-403b-8c92-1b243088f590"
      },
      "execution_count": null,
      "outputs": [
        {
          "output_type": "execute_result",
          "data": {
            "text/plain": [
              "0.00045810910369194777"
            ]
          },
          "metadata": {},
          "execution_count": 129
        }
      ]
    },
    {
      "cell_type": "code",
      "source": [
        "# Con la siguiente definición, se le resta acada dato la media de AMGN\n",
        "def AMGN(a,b):\n",
        "  x=a-b\n",
        "  return x\n",
        "\n",
        "AMGN(d[\"AMGN\"],media6)"
      ],
      "metadata": {
        "colab": {
          "base_uri": "https://localhost:8080/"
        },
        "id": "0HpoSKfup6CO",
        "outputId": "f5f4c83a-571e-4ad5-f2f3-18a679f80605"
      },
      "execution_count": null,
      "outputs": [
        {
          "output_type": "execute_result",
          "data": {
            "text/plain": [
              "Unnamed: 0\n",
              "2000-01-03    0.047409\n",
              "2000-01-04   -0.076923\n",
              "2000-01-05    0.033950\n",
              "2000-01-06    0.016174\n",
              "2000-01-07    0.112016\n",
              "                ...   \n",
              "2018-08-20    0.000251\n",
              "2018-08-21   -0.001724\n",
              "2018-08-22    0.002228\n",
              "2018-08-23   -0.006726\n",
              "2018-08-24   -0.000255\n",
              "Name: AMGN, Length: 4692, dtype: float64"
            ]
          },
          "metadata": {},
          "execution_count": 130
        }
      ]
    },
    {
      "cell_type": "code",
      "source": [
        "# Ahora nombramos a una variable std para la desviación estandar con la función .std()\n",
        "std6=d[\"AMGN\"].std()\n",
        "\n",
        "# Con la siguiente definición se  divide a cada dato (del inciso anterior) entre la desviación estandar\n",
        "def stdtgt(a,b):\n",
        "  x=a/b\n",
        "  return x\n",
        "\n",
        "stdtgt(d[\"AMGN\"],std6)"
      ],
      "metadata": {
        "colab": {
          "base_uri": "https://localhost:8080/"
        },
        "id": "RvP7Rd8cti0L",
        "outputId": "3c1f3f9b-a6fa-47a6-e4c5-be5e1e868162"
      },
      "execution_count": null,
      "outputs": [
        {
          "output_type": "execute_result",
          "data": {
            "text/plain": [
              "Unnamed: 0\n",
              "2000-01-03    2.356067\n",
              "2000-01-04   -3.763695\n",
              "2000-01-05    1.693636\n",
              "2000-01-06    0.818650\n",
              "2000-01-07    5.536139\n",
              "                ...   \n",
              "2018-08-20    0.034905\n",
              "2018-08-21   -0.062287\n",
              "2018-08-22    0.132214\n",
              "2018-08-23   -0.308502\n",
              "2018-08-24    0.010013\n",
              "Name: AMGN, Length: 4692, dtype: float64"
            ]
          },
          "metadata": {},
          "execution_count": 131
        }
      ]
    },
    {
      "cell_type": "markdown",
      "source": [
        "6. Realiza la gráfica de la serie de tiempo tomando alguna columna. ¿Cuáles son tus observaciones iniciales?\n"
      ],
      "metadata": {
        "id": "GEgTHTG-oIOl"
      }
    },
    {
      "cell_type": "code",
      "source": [
        "import matplotlib.pyplot as plt\n",
        "from pylab import plot\n",
        "import seaborn as sns"
      ],
      "metadata": {
        "id": "BQbCCtCIqgXf"
      },
      "execution_count": null,
      "outputs": []
    },
    {
      "cell_type": "code",
      "source": [
        "# Graficamos la columna de AAPL, a un tamaño (100,100), en donde el eje X es la columna \"Unnamed:0\" y el Y el los datos de la columna de AAPL\n",
        "d[\"AAPL\"].plot(label=\"AAPL\",figsize=(20,20))"
      ],
      "metadata": {
        "colab": {
          "base_uri": "https://localhost:8080/",
          "height": 1000
        },
        "id": "KDUHHE6GuP6M",
        "outputId": "f30679f1-0bec-4338-a7ca-e384be1a7a71"
      },
      "execution_count": null,
      "outputs": [
        {
          "output_type": "execute_result",
          "data": {
            "text/plain": [
              "<Axes: xlabel='Unnamed: 0'>"
            ]
          },
          "metadata": {},
          "execution_count": 133
        },
        {
          "output_type": "display_data",
          "data": {
            "text/plain": [
              "<Figure size 2000x2000 with 1 Axes>"
            ],
            "image/png": "[encoded data removed]"
          },
          "metadata": {}
        }
      ]
    },
    {
      "cell_type": "markdown",
      "source": [
        "7. Realiza un análisis descriptivo de la base de datos resultante.\n",
        "\n"
      ],
      "metadata": {
        "id": "wt4dZ-ceqcMO"
      }
    },
    {
      "cell_type": "code",
      "source": [
        "# La tabla anterior muestra la estadistica descriptiva de los datos de cada columna usando la función .describe()\n",
        "d.describe()"
      ],
      "metadata": {
        "colab": {
          "base_uri": "https://localhost:8080/",
          "height": 300
        },
        "id": "I6tEHkvdumOY",
        "outputId": "0a356743-b5b3-4cfd-c674-0c4af6e1ecb0"
      },
      "execution_count": null,
      "outputs": [
        {
          "output_type": "execute_result",
          "data": {
            "text/plain": [
              "              AAPL          JPM          WMT          TGT         MSFT  \\\n",
              "count  4692.000000  4692.000000  4692.000000  4692.000000  4692.000000   \n",
              "mean      0.001220     0.000476     0.000182     0.000390     0.000317   \n",
              "std       0.025857     0.024899     0.015121     0.020307     0.019268   \n",
              "min      -0.518692    -0.207274    -0.101832    -0.125000    -0.155978   \n",
              "25%      -0.010588    -0.009133    -0.006988    -0.009091    -0.008289   \n",
              "50%       0.000758     0.000000     0.000203     0.000204     0.000000   \n",
              "75%       0.013159     0.009709     0.006932     0.009378     0.008728   \n",
              "max       0.139050     0.250967     0.110731     0.178036     0.195652   \n",
              "\n",
              "              AMGN  \n",
              "count  4692.000000  \n",
              "mean      0.000458  \n",
              "std       0.020316  \n",
              "min      -0.134124  \n",
              "25%      -0.009081  \n",
              "50%       0.000000  \n",
              "75%       0.009771  \n",
              "max       0.151021  "
            ],
            "text/html": [
              "\n",
              "  <div id=\"df-9df55990-6231-4a16-aaf7-bb63065db193\" class=\"colab-df-container\">\n",
              "    <div>\n",
              "<style scoped>\n",
              "    .dataframe tbody tr th:only-of-type {\n",
              "        vertical-align: middle;\n",
              "    }\n",
              "\n",
              "    .dataframe tbody tr th {\n",
              "        vertical-align: top;\n",
              "    }\n",
              "\n",
              "    .dataframe thead th {\n",
              "        text-align: right;\n",
              "    }\n",
              "</style>\n",
              "<table border=\"1\" class=\"dataframe\">\n",
              "  <thead>\n",
              "    <tr style=\"text-align: right;\">\n",
              "      <th></th>\n",
              "      <th>AAPL</th>\n",
              "      <th>JPM</th>\n",
              "      <th>WMT</th>\n",
              "      <th>TGT</th>\n",
              "      <th>MSFT</th>\n",
              "      <th>AMGN</th>\n",
              "    </tr>\n",
              "  </thead>\n",
              "  <tbody>\n",
              "    <tr>\n",
              "      <th>count</th>\n",
              "      <td>4692.000000</td>\n",
              "      <td>4692.000000</td>\n",
              "      <td>4692.000000</td>\n",
              "      <td>4692.000000</td>\n",
              "      <td>4692.000000</td>\n",
              "      <td>4692.000000</td>\n",
              "    </tr>\n",
              "    <tr>\n",
              "      <th>mean</th>\n",
              "      <td>0.001220</td>\n",
              "      <td>0.000476</td>\n",
              "      <td>0.000182</td>\n",
              "      <td>0.000390</td>\n",
              "      <td>0.000317</td>\n",
              "      <td>0.000458</td>\n",
              "    </tr>\n",
              "    <tr>\n",
              "      <th>std</th>\n",
              "      <td>0.025857</td>\n",
              "      <td>0.024899</td>\n",
              "      <td>0.015121</td>\n",
              "      <td>0.020307</td>\n",
              "      <td>0.019268</td>\n",
              "      <td>0.020316</td>\n",
              "    </tr>\n",
              "    <tr>\n",
              "      <th>min</th>\n",
              "      <td>-0.518692</td>\n",
              "      <td>-0.207274</td>\n",
              "      <td>-0.101832</td>\n",
              "      <td>-0.125000</td>\n",
              "      <td>-0.155978</td>\n",
              "      <td>-0.134124</td>\n",
              "    </tr>\n",
              "    <tr>\n",
              "      <th>25%</th>\n",
              "      <td>-0.010588</td>\n",
              "      <td>-0.009133</td>\n",
              "      <td>-0.006988</td>\n",
              "      <td>-0.009091</td>\n",
              "      <td>-0.008289</td>\n",
              "      <td>-0.009081</td>\n",
              "    </tr>\n",
              "    <tr>\n",
              "      <th>50%</th>\n",
              "      <td>0.000758</td>\n",
              "      <td>0.000000</td>\n",
              "      <td>0.000203</td>\n",
              "      <td>0.000204</td>\n",
              "      <td>0.000000</td>\n",
              "      <td>0.000000</td>\n",
              "    </tr>\n",
              "    <tr>\n",
              "      <th>75%</th>\n",
              "      <td>0.013159</td>\n",
              "      <td>0.009709</td>\n",
              "      <td>0.006932</td>\n",
              "      <td>0.009378</td>\n",
              "      <td>0.008728</td>\n",
              "      <td>0.009771</td>\n",
              "    </tr>\n",
              "    <tr>\n",
              "      <th>max</th>\n",
              "      <td>0.139050</td>\n",
              "      <td>0.250967</td>\n",
              "      <td>0.110731</td>\n",
              "      <td>0.178036</td>\n",
              "      <td>0.195652</td>\n",
              "      <td>0.151021</td>\n",
              "    </tr>\n",
              "  </tbody>\n",
              "</table>\n",
              "</div>\n",
              "    <div class=\"colab-df-buttons\">\n",
              "\n",
              "  <div class=\"colab-df-container\">\n",
              "    <button class=\"colab-df-convert\" onclick=\"convertToInteractive('df-9df55990-6231-4a16-aaf7-bb63065db193')\"\n",
              "            title=\"Convert this dataframe to an interactive table.\"\n",
              "            style=\"display:none;\">\n",
              "\n",
              "  <svg xmlns=\"http://www.w3.org/2000/svg\" height=\"24px\" viewBox=\"0 -960 960 960\">\n",
              "    <path d=\"M120-120v-720h720v720H120Zm60-500h600v-160H180v160Zm220 220h160v-160H400v160Zm0 220h160v-160H400v160ZM180-400h160v-160H180v160Zm440 0h160v-160H620v160ZM180-180h160v-160H180v160Zm440 0h160v-160H620v160Z\"/>\n",
              "  </svg>\n",
              "    </button>\n",
              "\n",
              "  <style>\n",
              "    .colab-df-container {\n",
              "      display:flex;\n",
              "      gap: 12px;\n",
              "    }\n",
              "\n",
              "    .colab-df-convert {\n",
              "      background-color: #E8F0FE;\n",
              "      border: none;\n",
              "      border-radius: 50%;\n",
              "      cursor: pointer;\n",
              "      display: none;\n",
              "      fill: #1967D2;\n",
              "      height: 32px;\n",
              "      padding: 0 0 0 0;\n",
              "      width: 32px;\n",
              "    }\n",
              "\n",
              "    .colab-df-convert:hover {\n",
              "      background-color: #E2EBFA;\n",
              "      box-shadow: 0px 1px 2px rgba(60, 64, 67, 0.3), 0px 1px 3px 1px rgba(60, 64, 67, 0.15);\n",
              "      fill: #174EA6;\n",
              "    }\n",
              "\n",
              "    .colab-df-buttons div {\n",
              "      margin-bottom: 4px;\n",
              "    }\n",
              "\n",
              "    [theme=dark] .colab-df-convert {\n",
              "      background-color: #3B4455;\n",
              "      fill: #D2E3FC;\n",
              "    }\n",
              "\n",
              "    [theme=dark] .colab-df-convert:hover {\n",
              "      background-color: #434B5C;\n",
              "      box-shadow: 0px 1px 3px 1px rgba(0, 0, 0, 0.15);\n",
              "      filter: drop-shadow(0px 1px 2px rgba(0, 0, 0, 0.3));\n",
              "      fill: #FFFFFF;\n",
              "    }\n",
              "  </style>\n",
              "\n",
              "    <script>\n",
              "      const buttonEl =\n",
              "        document.querySelector('#df-9df55990-6231-4a16-aaf7-bb63065db193 button.colab-df-convert');\n",
              "      buttonEl.style.display =\n",
              "        google.colab.kernel.accessAllowed ? 'block' : 'none';\n",
              "\n",
              "      async function convertToInteractive(key) {\n",
              "        const element = document.querySelector('#df-9df55990-6231-4a16-aaf7-bb63065db193');\n",
              "        const dataTable =\n",
              "          await google.colab.kernel.invokeFunction('convertToInteractive',\n",
              "                                                    [key], {});\n",
              "        if (!dataTable) return;\n",
              "\n",
              "        const docLinkHtml = 'Like what you see? Visit the ' +\n",
              "          '<a target=\"_blank\" href=https://colab.research.google.com/notebooks/data_table.ipynb>data table notebook</a>'\n",
              "          + ' to learn more about interactive tables.';\n",
              "        element.innerHTML = '';\n",
              "        dataTable['output_type'] = 'display_data';\n",
              "        await google.colab.output.renderOutput(dataTable, element);\n",
              "        const docLink = document.createElement('div');\n",
              "        docLink.innerHTML = docLinkHtml;\n",
              "        element.appendChild(docLink);\n",
              "      }\n",
              "    </script>\n",
              "  </div>\n",
              "\n",
              "\n",
              "<div id=\"df-241b0924-010a-4f26-be80-f7fb0a2bee5c\">\n",
              "  <button class=\"colab-df-quickchart\" onclick=\"quickchart('df-241b0924-010a-4f26-be80-f7fb0a2bee5c')\"\n",
              "            title=\"Suggest charts.\"\n",
              "            style=\"display:none;\">\n",
              "\n",
              "<svg xmlns=\"http://www.w3.org/2000/svg\" height=\"24px\"viewBox=\"0 0 24 24\"\n",
              "     width=\"24px\">\n",
              "    <g>\n",
              "        <path d=\"M19 3H5c-1.1 0-2 .9-2 2v14c0 1.1.9 2 2 2h14c1.1 0 2-.9 2-2V5c0-1.1-.9-2-2-2zM9 17H7v-7h2v7zm4 0h-2V7h2v10zm4 0h-2v-4h2v4z\"/>\n",
              "    </g>\n",
              "</svg>\n",
              "  </button>\n",
              "\n",
              "<style>\n",
              "  .colab-df-quickchart {\n",
              "      --bg-color: #E8F0FE;\n",
              "      --fill-color: #1967D2;\n",
              "      --hover-bg-color: #E2EBFA;\n",
              "      --hover-fill-color: #174EA6;\n",
              "      --disabled-fill-color: #AAA;\n",
              "      --disabled-bg-color: #DDD;\n",
              "  }\n",
              "\n",
              "  [theme=dark] .colab-df-quickchart {\n",
              "      --bg-color: #3B4455;\n",
              "      --fill-color: #D2E3FC;\n",
              "      --hover-bg-color: #434B5C;\n",
              "      --hover-fill-color: #FFFFFF;\n",
              "      --disabled-bg-color: #3B4455;\n",
              "      --disabled-fill-color: #666;\n",
              "  }\n",
              "\n",
              "  .colab-df-quickchart {\n",
              "    background-color: var(--bg-color);\n",
              "    border: none;\n",
              "    border-radius: 50%;\n",
              "    cursor: pointer;\n",
              "    display: none;\n",
              "    fill: var(--fill-color);\n",
              "    height: 32px;\n",
              "    padding: 0;\n",
              "    width: 32px;\n",
              "  }\n",
              "\n",
              "  .colab-df-quickchart:hover {\n",
              "    background-color: var(--hover-bg-color);\n",
              "    box-shadow: 0 1px 2px rgba(60, 64, 67, 0.3), 0 1px 3px 1px rgba(60, 64, 67, 0.15);\n",
              "    fill: var(--button-hover-fill-color);\n",
              "  }\n",
              "\n",
              "  .colab-df-quickchart-complete:disabled,\n",
              "  .colab-df-quickchart-complete:disabled:hover {\n",
              "    background-color: var(--disabled-bg-color);\n",
              "    fill: var(--disabled-fill-color);\n",
              "    box-shadow: none;\n",
              "  }\n",
              "\n",
              "  .colab-df-spinner {\n",
              "    border: 2px solid var(--fill-color);\n",
              "    border-color: transparent;\n",
              "    border-bottom-color: var(--fill-color);\n",
              "    animation:\n",
              "      spin 1s steps(1) infinite;\n",
              "  }\n",
              "\n",
              "  @keyframes spin {\n",
              "    0% {\n",
              "      border-color: transparent;\n",
              "      border-bottom-color: var(--fill-color);\n",
              "      border-left-color: var(--fill-color);\n",
              "    }\n",
              "    20% {\n",
              "      border-color: transparent;\n",
              "      border-left-color: var(--fill-color);\n",
              "      border-top-color: var(--fill-color);\n",
              "    }\n",
              "    30% {\n",
              "      border-color: transparent;\n",
              "      border-left-color: var(--fill-color);\n",
              "      border-top-color: var(--fill-color);\n",
              "      border-right-color: var(--fill-color);\n",
              "    }\n",
              "    40% {\n",
              "      border-color: transparent;\n",
              "      border-right-color: var(--fill-color);\n",
              "      border-top-color: var(--fill-color);\n",
              "    }\n",
              "    60% {\n",
              "      border-color: transparent;\n",
              "      border-right-color: var(--fill-color);\n",
              "    }\n",
              "    80% {\n",
              "      border-color: transparent;\n",
              "      border-right-color: var(--fill-color);\n",
              "      border-bottom-color: var(--fill-color);\n",
              "    }\n",
              "    90% {\n",
              "      border-color: transparent;\n",
              "      border-bottom-color: var(--fill-color);\n",
              "    }\n",
              "  }\n",
              "</style>\n",
              "\n",
              "  <script>\n",
              "    async function quickchart(key) {\n",
              "      const quickchartButtonEl =\n",
              "        document.querySelector('#' + key + ' button');\n",
              "      quickchartButtonEl.disabled = true;  // To prevent multiple clicks.\n",
              "      quickchartButtonEl.classList.add('colab-df-spinner');\n",
              "      try {\n",
              "        const charts = await google.colab.kernel.invokeFunction(\n",
              "            'suggestCharts', [key], {});\n",
              "      } catch (error) {\n",
              "        console.error('Error during call to suggestCharts:', error);\n",
              "      }\n",
              "      quickchartButtonEl.classList.remove('colab-df-spinner');\n",
              "      quickchartButtonEl.classList.add('colab-df-quickchart-complete');\n",
              "    }\n",
              "    (() => {\n",
              "      let quickchartButtonEl =\n",
              "        document.querySelector('#df-241b0924-010a-4f26-be80-f7fb0a2bee5c button');\n",
              "      quickchartButtonEl.style.display =\n",
              "        google.colab.kernel.accessAllowed ? 'block' : 'none';\n",
              "    })();\n",
              "  </script>\n",
              "</div>\n",
              "    </div>\n",
              "  </div>\n"
            ]
          },
          "metadata": {},
          "execution_count": 134
        }
      ]
    },
    {
      "cell_type": "markdown",
      "source": [
        "## Parte B\n",
        "\n",
        "1. Crea definiciones que calculen el área de un círculo y el área de un rectángulo, respectivamente.\n",
        "\n",
        "2. Crea una definición que calcule la raíz cuadrada de un número.\n",
        "\n",
        "3. Crea una lista que contenga 20 números enteros que eliges de manera aleatoria en el intervalo $[0, 100]$ (incluyendo el $0$ y el $100$).\n",
        "\n",
        "4. Usa el punto 2. para calcular la raíz cuadrada de cada elemento de la lista del punto 3.\n",
        "\n",
        "5. Crea un conjunto cuyos elementos sean aquellos enteros de tu lista del punto 3. y cuya raíz cuadrada te da un entero."
      ],
      "metadata": {
        "id": "INHBo-FDqe0o"
      }
    },
    {
      "cell_type": "code",
      "source": [
        "import random"
      ],
      "metadata": {
        "id": "BRqyVOq0U_8a"
      },
      "execution_count": null,
      "outputs": []
    },
    {
      "cell_type": "markdown",
      "source": [
        "1."
      ],
      "metadata": {
        "id": "hB8BPMn6zmvb"
      }
    },
    {
      "cell_type": "code",
      "source": [
        "# Creamos una definición que saca el area de un círculo cuando se introduce el radio y se importó pi de numpy\n",
        "def areacirculo(r):\n",
        "  import numpy as np\n",
        "  pi = np.pi\n",
        "  a = pi * (r**2)\n",
        "  return a"
      ],
      "metadata": {
        "id": "iCNDgcfNzoyl"
      },
      "execution_count": null,
      "outputs": []
    },
    {
      "cell_type": "code",
      "source": [
        "areacirculo(2)"
      ],
      "metadata": {
        "colab": {
          "base_uri": "https://localhost:8080/"
        },
        "id": "nYxpb90zz7lV",
        "outputId": "7b8960aa-2e87-4519-e915-0f8f71b694b8"
      },
      "execution_count": null,
      "outputs": [
        {
          "output_type": "execute_result",
          "data": {
            "text/plain": [
              "12.566370614359172"
            ]
          },
          "metadata": {},
          "execution_count": 6
        }
      ]
    },
    {
      "cell_type": "code",
      "source": [
        "# Se creó una definición que saca el área de un rectángulo cuando se introduce la base y la altura\n",
        "def arear(b,h) :\n",
        "  a = b * h\n",
        "  return a"
      ],
      "metadata": {
        "id": "YHwsvW_Jz_9L"
      },
      "execution_count": null,
      "outputs": []
    },
    {
      "cell_type": "code",
      "source": [
        "arear(10,20)"
      ],
      "metadata": {
        "colab": {
          "base_uri": "https://localhost:8080/"
        },
        "id": "x8115SQD0JkL",
        "outputId": "0ab74491-055b-438b-8f83-12ecc4ed78a6"
      },
      "execution_count": null,
      "outputs": [
        {
          "output_type": "execute_result",
          "data": {
            "text/plain": [
              "200"
            ]
          },
          "metadata": {},
          "execution_count": 13
        }
      ]
    },
    {
      "cell_type": "code",
      "source": [
        "# Se creó una definición que saca la raíz cuadrada de un número\n",
        "def raizcuadrada(num):\n",
        "  numraiz = num**(0.5)\n",
        "  return numraiz"
      ],
      "metadata": {
        "id": "0HtO4LYg0LvY"
      },
      "execution_count": null,
      "outputs": []
    },
    {
      "cell_type": "code",
      "source": [
        "# Importamos numpy y creamos una lista de 20 elementos con números del 1 al 100\n",
        "import numpy as np\n",
        "lista1 = np.random.randint(0, 101,20)"
      ],
      "metadata": {
        "id": "S-I7qZhh0g9n"
      },
      "execution_count": null,
      "outputs": []
    },
    {
      "cell_type": "code",
      "source": [
        "lista1"
      ],
      "metadata": {
        "colab": {
          "base_uri": "https://localhost:8080/"
        },
        "id": "JSXrXmBY0rZ0",
        "outputId": "4564b01e-d192-4cc2-949c-095cf00b58ab"
      },
      "execution_count": null,
      "outputs": [
        {
          "output_type": "execute_result",
          "data": {
            "text/plain": [
              "array([94, 50, 37, 51, 35, 33, 67, 99,  7, 90, 49, 31, 47, 65, 19, 68, 27,\n",
              "        7, 35, 15])"
            ]
          },
          "metadata": {},
          "execution_count": 17
        }
      ]
    },
    {
      "cell_type": "code",
      "source": [
        "#  Usamos un for para añadir a una lista vacía las raíces cuadradas de cada uno de los elementos de la lista 1\n",
        "L = []\n",
        "\n",
        "for i in lista1:\n",
        "  a = raizcuadrada(i)\n",
        "  L.append(a)"
      ],
      "metadata": {
        "id": "JIlRuNOx0uHw"
      },
      "execution_count": null,
      "outputs": []
    },
    {
      "cell_type": "code",
      "source": [
        "L"
      ],
      "metadata": {
        "colab": {
          "base_uri": "https://localhost:8080/"
        },
        "id": "xyxI-CVQ0wwV",
        "outputId": "7b120108-4e8e-41d3-cd4d-e6e58f892966"
      },
      "execution_count": null,
      "outputs": [
        {
          "output_type": "execute_result",
          "data": {
            "text/plain": [
              "[9.695359714832659,\n",
              " 7.0710678118654755,\n",
              " 6.082762530298219,\n",
              " 7.14142842854285,\n",
              " 5.916079783099616,\n",
              " 5.744562646538029,\n",
              " 8.18535277187245,\n",
              " 9.9498743710662,\n",
              " 2.6457513110645907,\n",
              " 9.486832980505138,\n",
              " 7.0,\n",
              " 5.5677643628300215,\n",
              " 6.855654600401044,\n",
              " 8.06225774829855,\n",
              " 4.358898943540674,\n",
              " 8.246211251235321,\n",
              " 5.196152422706632,\n",
              " 2.6457513110645907,\n",
              " 5.916079783099616,\n",
              " 3.872983346207417]"
            ]
          },
          "metadata": {},
          "execution_count": 19
        }
      ]
    },
    {
      "cell_type": "code",
      "source": [
        "# Usamos. un for y dos ifs para validar si los números de la lista son enteros. Si son enteros se añaden a unna lista vacía.Si no son enteros se valida si su raíz cuadrada es entero y se añade a una lista. vacía.\n",
        "L2 = []\n",
        "for i in lista1:\n",
        "  if i ==int(i):\n",
        "    L2.append(i)\n",
        "  else:\n",
        "    a2 = raizcuadrada(i)\n",
        "    if a2 == int(a2):\n",
        "      L2.append(i)"
      ],
      "metadata": {
        "id": "4qVcXPPw0y2S"
      },
      "execution_count": null,
      "outputs": []
    },
    {
      "cell_type": "code",
      "source": [
        "L2"
      ],
      "metadata": {
        "colab": {
          "base_uri": "https://localhost:8080/"
        },
        "id": "SXNLJutD02y7",
        "outputId": "31b4556f-08f7-436d-8808-4f329da29ab0"
      },
      "execution_count": null,
      "outputs": [
        {
          "output_type": "execute_result",
          "data": {
            "text/plain": [
              "[94, 50, 37, 51, 35, 33, 67, 99, 7, 90, 49, 31, 47, 65, 19, 68, 27, 7, 35, 15]"
            ]
          },
          "metadata": {},
          "execution_count": 23
        }
      ]
    },
    {
      "cell_type": "code",
      "source": [],
      "metadata": {
        "id": "u-Cp74D407c0"
      },
      "execution_count": null,
      "outputs": []
    }
  ]
}